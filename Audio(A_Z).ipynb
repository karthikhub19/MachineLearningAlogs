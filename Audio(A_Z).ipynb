{
  "nbformat": 4,
  "nbformat_minor": 0,
  "metadata": {
    "colab": {
      "name": " Audio(A-Z).ipynb",
      "provenance": [],
      "collapsed_sections": [],
      "include_colab_link": true
    },
    "kernelspec": {
      "name": "python3",
      "display_name": "Python 3"
    }
  },
  "cells": [
    {
      "cell_type": "markdown",
      "metadata": {
        "id": "view-in-github",
        "colab_type": "text"
      },
      "source": [
        "<a href=\"https://colab.research.google.com/github/karthikhub19/MachineLearningAlogs/blob/main/Audio(A_Z).ipynb\" target=\"_parent\"><img src=\"https://colab.research.google.com/assets/colab-badge.svg\" alt=\"Open In Colab\"/></a>"
      ]
    },
    {
      "cell_type": "code",
      "metadata": {
        "id": "cJzzZeUrH-oT"
      },
      "source": [
        "# all imports\n",
        "from io import BytesIO\n",
        "from base64 import b64decode\n",
        "from google.colab import output\n",
        "from IPython.display import Javascript\n",
        "\n",
        "RECORD = \"\"\"\n",
        "const sleep  = time => new Promise(resolve => setTimeout(resolve, time))\n",
        "const b2text = blob => new Promise(resolve => {\n",
        "  const reader = new FileReader()\n",
        "  reader.onloadend = e => resolve(e.srcElement.result)\n",
        "  reader.readAsDataURL(blob)\n",
        "})\n",
        "var record = time => new Promise(async resolve => {\n",
        "  stream = await navigator.mediaDevices.getUserMedia({ audio: true })\n",
        "  recorder = new MediaRecorder(stream)\n",
        "  chunks = []\n",
        "  recorder.ondataavailable = e => chunks.push(e.data)\n",
        "  recorder.start()\n",
        "  await sleep(time)\n",
        "  recorder.onstop = async ()=>{\n",
        "    blob = new Blob(chunks)\n",
        "    text = await b2text(blob)\n",
        "    resolve(text)\n",
        "  }\n",
        "  recorder.stop()\n",
        "})\n",
        "\"\"\"\n",
        "\n",
        "def record(sec=3):\n",
        "  print(\"Speak Now...\")\n",
        "  display(Javascript(RECORD))\n",
        "  sec += 1\n",
        "  s = output.eval_js('record(%d)' % (sec*1000))\n",
        "  print(\"Done Recording !\")\n",
        "  b = b64decode(s.split(',')[1])\n",
        "  #b = b64decode(\"WAVE\")\n",
        "  return b #byte stream"
      ],
      "execution_count": null,
      "outputs": []
    },
    {
      "cell_type": "code",
      "metadata": {
        "id": "mxZjOYDeIB29",
        "outputId": "ad40f4eb-d610-47b2-cc8d-b5e3d9e8cc03",
        "colab": {
          "base_uri": "https://localhost:8080/",
          "height": 54
        }
      },
      "source": [
        "audio = record(5)   #will record for 5 seconds"
      ],
      "execution_count": null,
      "outputs": [
        {
          "output_type": "stream",
          "name": "stdout",
          "text": [
            "Speak Now...\n"
          ]
        },
        {
          "output_type": "display_data",
          "data": {
            "text/plain": [
              "<IPython.core.display.Javascript object>"
            ],
            "application/javascript": [
              "\n",
              "const sleep  = time => new Promise(resolve => setTimeout(resolve, time))\n",
              "const b2text = blob => new Promise(resolve => {\n",
              "  const reader = new FileReader()\n",
              "  reader.onloadend = e => resolve(e.srcElement.result)\n",
              "  reader.readAsDataURL(blob)\n",
              "})\n",
              "var record = time => new Promise(async resolve => {\n",
              "  stream = await navigator.mediaDevices.getUserMedia({ audio: true })\n",
              "  recorder = new MediaRecorder(stream)\n",
              "  chunks = []\n",
              "  recorder.ondataavailable = e => chunks.push(e.data)\n",
              "  recorder.start()\n",
              "  await sleep(time)\n",
              "  recorder.onstop = async ()=>{\n",
              "    blob = new Blob(chunks)\n",
              "    text = await b2text(blob)\n",
              "    resolve(text)\n",
              "  }\n",
              "  recorder.stop()\n",
              "})\n"
            ]
          },
          "metadata": {}
        },
        {
          "output_type": "stream",
          "name": "stdout",
          "text": [
            "Done Recording !\n"
          ]
        }
      ]
    },
    {
      "cell_type": "code",
      "metadata": {
        "id": "YBtrKh2yIp3d",
        "outputId": "755b772a-8cac-4984-aa14-97154d399e1c",
        "colab": {
          "base_uri": "https://localhost:8080/"
        }
      },
      "source": [
        "type(audio)"
      ],
      "execution_count": null,
      "outputs": [
        {
          "output_type": "execute_result",
          "data": {
            "text/plain": [
              "bytes"
            ]
          },
          "metadata": {},
          "execution_count": 3
        }
      ]
    },
    {
      "cell_type": "code",
      "metadata": {
        "id": "PKLGVyNeIHvs",
        "outputId": "b006a476-189b-468d-a7a5-0ad4be586b46",
        "colab": {
          "base_uri": "https://localhost:8080/",
          "height": 75
        }
      },
      "source": [
        "import IPython.display as ipd\n",
        "\n",
        "ipd.display(ipd.Audio(audio))"
      ],
      "execution_count": null,
      "outputs": [
        {
          "output_type": "display_data",
          "data": {
            "text/html": [
              "\n",
              "                <audio controls=\"controls\" >\n",
              "                    <source src=\"data:audio/wav;base64,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\" type=\"audio/wav\" />\n",
              "                    Your browser does not support the audio element.\n",
              "                </audio>\n",
              "              "
            ],
            "text/plain": [
              "<IPython.lib.display.Audio object>"
            ]
          },
          "metadata": {}
        }
      ]
    },
    {
      "cell_type": "code",
      "source": [
        "!pip install gTTS  \n"
      ],
      "metadata": {
        "id": "POCH18mviyRk",
        "outputId": "b71ccb90-6f5f-46a4-cd96-f0f182b6c4c4",
        "colab": {
          "base_uri": "https://localhost:8080/"
        }
      },
      "execution_count": null,
      "outputs": [
        {
          "output_type": "stream",
          "name": "stdout",
          "text": [
            "Collecting gTTS\n",
            "  Downloading gTTS-2.2.3-py3-none-any.whl (25 kB)\n",
            "Requirement already satisfied: click in /usr/local/lib/python3.7/dist-packages (from gTTS) (7.1.2)\n",
            "Requirement already satisfied: requests in /usr/local/lib/python3.7/dist-packages (from gTTS) (2.23.0)\n",
            "Requirement already satisfied: six in /usr/local/lib/python3.7/dist-packages (from gTTS) (1.15.0)\n",
            "Requirement already satisfied: chardet<4,>=3.0.2 in /usr/local/lib/python3.7/dist-packages (from requests->gTTS) (3.0.4)\n",
            "Requirement already satisfied: urllib3!=1.25.0,!=1.25.1,<1.26,>=1.21.1 in /usr/local/lib/python3.7/dist-packages (from requests->gTTS) (1.24.3)\n",
            "Requirement already satisfied: idna<3,>=2.5 in /usr/local/lib/python3.7/dist-packages (from requests->gTTS) (2.10)\n",
            "Requirement already satisfied: certifi>=2017.4.17 in /usr/local/lib/python3.7/dist-packages (from requests->gTTS) (2021.10.8)\n",
            "Installing collected packages: gTTS\n",
            "Successfully installed gTTS-2.2.3\n"
          ]
        }
      ]
    },
    {
      "cell_type": "code",
      "source": [
        "from gtts import gTTS #Import Google Text to Speech\n",
        "from IPython.display import Audio #Import Audio method from IPython's Display Class\n",
        "tts = gTTS('hello joyjit') #Provide the string to convert to speech\n",
        "tts.save('1.wav') #save the string converted to speech as a .wav file\n",
        "sound_file = '1.wav'\n",
        "Audio(sound_file, autoplay=True) \n",
        "\n",
        "#Autoplay = True will play the sound automatically\n",
        "#If you would not like to play the sound automatically, simply pass Autoplay = False.\n"
      ],
      "metadata": {
        "id": "Eq6zucZ1i-il",
        "outputId": "fcbe3898-8ac9-43ca-f03e-def141d8831f",
        "colab": {
          "base_uri": "https://localhost:8080/",
          "height": 76
        }
      },
      "execution_count": null,
      "outputs": [
        {
          "output_type": "execute_result",
          "data": {
            "text/plain": [
              "<IPython.lib.display.Audio object>"
            ],
            "text/html": [
              "\n",
              "                <audio controls=\"controls\" autoplay=\"autoplay\">\n",
              "                    <source src=\"data:audio/x-wav;base64,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\" type=\"audio/x-wav\" />\n",
              "                    Your browser does not support the audio element.\n",
              "                </audio>\n",
              "              "
            ]
          },
          "metadata": {},
          "execution_count": 5
        }
      ]
    },
    {
      "cell_type": "code",
      "source": [
        ""
      ],
      "metadata": {
        "id": "KByNf3R1jbv-"
      },
      "execution_count": null,
      "outputs": []
    },
    {
      "cell_type": "code",
      "source": [
        "!pip install SpeechRecognition\n",
        "!pip install PyAudio"
      ],
      "metadata": {
        "id": "o24q0qKRke0z",
        "colab": {
          "base_uri": "https://localhost:8080/"
        },
        "outputId": "186d34e6-fda1-44f4-b43a-a70693d8e86d"
      },
      "execution_count": null,
      "outputs": [
        {
          "output_type": "stream",
          "name": "stdout",
          "text": [
            "Collecting SpeechRecognition\n",
            "  Downloading SpeechRecognition-3.8.1-py2.py3-none-any.whl (32.8 MB)\n",
            "\u001b[K     |████████████████████████████████| 32.8 MB 149 kB/s \n",
            "\u001b[?25hInstalling collected packages: SpeechRecognition\n",
            "Successfully installed SpeechRecognition-3.8.1\n",
            "Collecting PyAudio\n",
            "  Downloading PyAudio-0.2.11.tar.gz (37 kB)\n",
            "Building wheels for collected packages: PyAudio\n",
            "  Building wheel for PyAudio (setup.py) ... \u001b[?25lerror\n",
            "\u001b[31m  ERROR: Failed building wheel for PyAudio\u001b[0m\n",
            "\u001b[?25h  Running setup.py clean for PyAudio\n",
            "Failed to build PyAudio\n",
            "Installing collected packages: PyAudio\n",
            "    Running setup.py install for PyAudio ... \u001b[?25l\u001b[?25herror\n",
            "\u001b[31mERROR: Command errored out with exit status 1: /usr/bin/python3 -u -c 'import io, os, sys, setuptools, tokenize; sys.argv[0] = '\"'\"'/tmp/pip-install-wmght6w3/pyaudio_ec727c81777842dd848a7b5c9aa3d730/setup.py'\"'\"'; __file__='\"'\"'/tmp/pip-install-wmght6w3/pyaudio_ec727c81777842dd848a7b5c9aa3d730/setup.py'\"'\"';f = getattr(tokenize, '\"'\"'open'\"'\"', open)(__file__) if os.path.exists(__file__) else io.StringIO('\"'\"'from setuptools import setup; setup()'\"'\"');code = f.read().replace('\"'\"'\\r\\n'\"'\"', '\"'\"'\\n'\"'\"');f.close();exec(compile(code, __file__, '\"'\"'exec'\"'\"'))' install --record /tmp/pip-record-qyydzitv/install-record.txt --single-version-externally-managed --compile --install-headers /usr/local/include/python3.7/PyAudio Check the logs for full command output.\u001b[0m\n"
          ]
        }
      ]
    },
    {
      "cell_type": "code",
      "source": [
        "!apt install libasound2-dev portaudio19-dev libportaudio2 libportaudiocpp0 ffmpeg"
      ],
      "metadata": {
        "id": "UfZxbc6XlLtZ",
        "colab": {
          "base_uri": "https://localhost:8080/"
        },
        "outputId": "d597311f-2a67-4dbb-cc7d-c773e7d2ff80"
      },
      "execution_count": null,
      "outputs": [
        {
          "output_type": "stream",
          "name": "stdout",
          "text": [
            "Reading package lists... Done\n",
            "Building dependency tree       \n",
            "Reading state information... Done\n",
            "libasound2-dev is already the newest version (1.1.3-5ubuntu0.6).\n",
            "ffmpeg is already the newest version (7:3.4.8-0ubuntu0.2).\n",
            "Suggested packages:\n",
            "  portaudio19-doc\n",
            "The following NEW packages will be installed:\n",
            "  libportaudio2 libportaudiocpp0 portaudio19-dev\n",
            "0 upgraded, 3 newly installed, 0 to remove and 39 not upgraded.\n",
            "Need to get 184 kB of archives.\n",
            "After this operation, 891 kB of additional disk space will be used.\n",
            "Get:1 http://archive.ubuntu.com/ubuntu bionic/universe amd64 libportaudio2 amd64 19.6.0-1 [64.6 kB]\n",
            "Get:2 http://archive.ubuntu.com/ubuntu bionic/universe amd64 libportaudiocpp0 amd64 19.6.0-1 [15.1 kB]\n",
            "Get:3 http://archive.ubuntu.com/ubuntu bionic/universe amd64 portaudio19-dev amd64 19.6.0-1 [104 kB]\n",
            "Fetched 184 kB in 1s (275 kB/s)\n",
            "Selecting previously unselected package libportaudio2:amd64.\n",
            "(Reading database ... 155335 files and directories currently installed.)\n",
            "Preparing to unpack .../libportaudio2_19.6.0-1_amd64.deb ...\n",
            "Unpacking libportaudio2:amd64 (19.6.0-1) ...\n",
            "Selecting previously unselected package libportaudiocpp0:amd64.\n",
            "Preparing to unpack .../libportaudiocpp0_19.6.0-1_amd64.deb ...\n",
            "Unpacking libportaudiocpp0:amd64 (19.6.0-1) ...\n",
            "Selecting previously unselected package portaudio19-dev:amd64.\n",
            "Preparing to unpack .../portaudio19-dev_19.6.0-1_amd64.deb ...\n",
            "Unpacking portaudio19-dev:amd64 (19.6.0-1) ...\n",
            "Setting up libportaudio2:amd64 (19.6.0-1) ...\n",
            "Setting up libportaudiocpp0:amd64 (19.6.0-1) ...\n",
            "Setting up portaudio19-dev:amd64 (19.6.0-1) ...\n",
            "Processing triggers for libc-bin (2.27-3ubuntu1.3) ...\n",
            "/sbin/ldconfig.real: /usr/local/lib/python3.7/dist-packages/ideep4py/lib/libmkldnn.so.0 is not a symbolic link\n",
            "\n"
          ]
        }
      ]
    },
    {
      "cell_type": "code",
      "source": [
        "import speech_recognition as sr\n",
        "r = sr.Recognizer()\n",
        "with sr.Microphone() as source:\n",
        "    print(\"Speak Anything :\")\n",
        "    audio = r.listen(source)\n",
        "    try:\n",
        "        text = r.recognize_google(audio)\n",
        "        print(\"You said : {}\".format(text))\n",
        "    except:\n",
        "        print(\"Sorry could not recognize what you said\")"
      ],
      "metadata": {
        "id": "itkxo-Y8kewb"
      },
      "execution_count": null,
      "outputs": []
    },
    {
      "cell_type": "code",
      "source": [
        "import speech_recognition as sr\n",
        "\n",
        "r = sr.Recognizer()\n",
        "with sr.WavFile(\"/content/OSR_us_000_0013_8k.wav\") as source:\n",
        "      audio = r.record(source)\n",
        "\n",
        "text = r.recognize_google(audio)"
      ],
      "metadata": {
        "id": "EsA5_S8Nkgaw"
      },
      "execution_count": null,
      "outputs": []
    },
    {
      "cell_type": "code",
      "source": [
        "text"
      ],
      "metadata": {
        "colab": {
          "base_uri": "https://localhost:8080/",
          "height": 73
        },
        "id": "4wzSoAv5gzbD",
        "outputId": "d32e802e-8769-46ee-e250-59d6a940c52e"
      },
      "execution_count": null,
      "outputs": [
        {
          "output_type": "execute_result",
          "data": {
            "text/plain": [
              "\"what's the low to the left shoulder since The Wedding Pact with the lake not closely the size of the gas tank wipe the grease off of dirty face before you go out this is Daddy's friend and hung them to search I gave birth to kittens Young Dro gave no clear response the Millville Tribune for the bell ring what the weather is in living\""
            ],
            "application/vnd.google.colaboratory.intrinsic+json": {
              "type": "string"
            }
          },
          "metadata": {},
          "execution_count": 10
        }
      ]
    }
  ]
}