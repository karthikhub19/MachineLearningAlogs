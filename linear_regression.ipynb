{
  "nbformat": 4,
  "nbformat_minor": 0,
  "metadata": {
    "colab": {
      "name": "linear regression",
      "provenance": [],
      "authorship_tag": "ABX9TyNbYcN7agVmG3lOgLXl1ahG",
      "include_colab_link": true
    },
    "kernelspec": {
      "name": "python3",
      "display_name": "Python 3"
    },
    "language_info": {
      "name": "python"
    }
  },
  "cells": [
    {
      "cell_type": "markdown",
      "metadata": {
        "id": "view-in-github",
        "colab_type": "text"
      },
      "source": [
        "<a href=\"https://colab.research.google.com/github/karthikhub19/MachineLearningAlogs/blob/main/linear_regression.ipynb\" target=\"_parent\"><img src=\"https://colab.research.google.com/assets/colab-badge.svg\" alt=\"Open In Colab\"/></a>"
      ]
    },
    {
      "cell_type": "markdown",
      "source": [
        "HardCode"
      ],
      "metadata": {
        "id": "I9O9JXehY-Cl"
      }
    },
    {
      "cell_type": "code",
      "execution_count": 2,
      "metadata": {
        "colab": {
          "base_uri": "https://localhost:8080/"
        },
        "id": "OZeX5sN3semu",
        "outputId": "081d5a58-c958-48e0-a808-53ce9cf28193"
      },
      "outputs": [
        {
          "output_type": "stream",
          "name": "stdout",
          "text": [
            "0.8 0.39999999999999947\n",
            "0.692820323027551\n",
            "0.7272727272727272\n"
          ]
        }
      ],
      "source": [
        "import numpy as np\n",
        "x=[1,2,4,3,5]\n",
        "y=[1,3,3,2,5]\n",
        "mean_x = np.mean(x)\n",
        "mean_y = np.mean(y)\n",
        "# Using the formula to calculate b1 and b2\n",
        "numer = 0\n",
        "denom = 0\n",
        "m=len(x)\n",
        "for i in range(m):   \n",
        " numer += (x[i] - mean_x) * (y[i] - mean_y)   \n",
        " denom += (x[i] - mean_x) ** 2\n",
        " \n",
        "b1 = numer / denom\n",
        " \n",
        "b0 = mean_y - (b1*mean_x)\n",
        "print(b1,b0)\n",
        " \n",
        "# Calculating Root Mean Squares Error\n",
        " \n",
        "rmse = 0\n",
        " \n",
        "for i in range(m):\n",
        " y_pred = b0 + b1 * x[i]\n",
        " rmse += (y[i] - y_pred) ** 2\n",
        " \n",
        "rmse = np.sqrt(rmse/m)\n",
        "print(rmse)\n",
        "\n",
        "#Predict Your model score:\n",
        " \n",
        "#scorings\n",
        "ss_t = 0\n",
        "ss_r = 0\n",
        "for i in range(m):   \n",
        " y_pred = b0 + b1 * x[i]  \n",
        " ss_t += (y[i] - mean_y) ** 2   \n",
        " ss_r += (y[i] - y_pred) ** 2\n",
        "r2 = 1 - (ss_r/ss_t)\n",
        "print(r2)"
      ]
    },
    {
      "cell_type": "markdown",
      "source": [
        "SAT and GPA"
      ],
      "metadata": {
        "id": "iNuqtq-SZFt-"
      }
    },
    {
      "cell_type": "code",
      "source": [
        "\n",
        "import numpy as np\n",
        "import pandas as pd\n",
        "import matplotlib.pyplot as plt\n",
        "from sklearn.linear_model import LinearRegression\n",
        "\n",
        "\n",
        "df=pd.read_csv('https://raw.githubusercontent.com/nethajinirmal13/Training-datasets/main/1.01.%20Simple%20linear%20regression.csv')\n",
        "df.head()\n",
        "df.info()\n",
        "df.describe()\n",
        "\n",
        "plt.scatter(x=df['SAT'],y=df['GPA'])\n",
        "\n",
        "\n"
      ],
      "metadata": {
        "colab": {
          "base_uri": "https://localhost:8080/",
          "height": 439
        },
        "id": "JLDyuvQKu5eu",
        "outputId": "c93bbc77-948c-497c-df95-abf89050acf7"
      },
      "execution_count": 3,
      "outputs": [
        {
          "output_type": "stream",
          "name": "stdout",
          "text": [
            "<class 'pandas.core.frame.DataFrame'>\n",
            "RangeIndex: 84 entries, 0 to 83\n",
            "Data columns (total 2 columns):\n",
            " #   Column  Non-Null Count  Dtype  \n",
            "---  ------  --------------  -----  \n",
            " 0   SAT     84 non-null     int64  \n",
            " 1   GPA     84 non-null     float64\n",
            "dtypes: float64(1), int64(1)\n",
            "memory usage: 1.4 KB\n"
          ]
        },
        {
          "output_type": "execute_result",
          "data": {
            "text/plain": [
              "<matplotlib.collections.PathCollection at 0x7f0ccb6b4c90>"
            ]
          },
          "metadata": {},
          "execution_count": 3
        },
        {
          "output_type": "display_data",
          "data": {
            "image/png": "[encoded data removed]",
            "text/plain": [
              "<Figure size 432x288 with 1 Axes>"
            ]
          },
          "metadata": {
            "needs_background": "light"
          }
        }
      ]
    },
    {
      "cell_type": "code",
      "source": [
        "y = df[\"GPA\"]\n",
        "print(y.shape)\n",
        "x = df[\"SAT\"]\n",
        "print(x.shape)"
      ],
      "metadata": {
        "colab": {
          "base_uri": "https://localhost:8080/"
        },
        "id": "Vocqt7TD3Lym",
        "outputId": "d3ca0d55-5227-43ba-8a55-088f8e9461da"
      },
      "execution_count": 4,
      "outputs": [
        {
          "output_type": "stream",
          "name": "stdout",
          "text": [
            "(84,)\n",
            "(84,)\n"
          ]
        }
      ]
    },
    {
      "cell_type": "code",
      "source": [
        "y1=y.values.reshape(-1,1)\n",
        "print(y)\n",
        "print(y1)\n",
        "x1=x.values.reshape(-1,1)\n",
        "print(x)\n",
        "print(x1)"
      ],
      "metadata": {
        "colab": {
          "base_uri": "https://localhost:8080/"
        },
        "id": "sGMjA1-h2bi3",
        "outputId": "a481bdd7-43b5-43ce-ba9d-57e73f97d3a0"
      },
      "execution_count": 5,
      "outputs": [
        {
          "output_type": "stream",
          "name": "stdout",
          "text": [
            "0     2.40\n",
            "1     2.52\n",
            "2     2.54\n",
            "3     2.74\n",
            "4     2.83\n",
            "      ... \n",
            "79    3.71\n",
            "80    3.71\n",
            "81    3.73\n",
            "82    3.76\n",
            "83    3.81\n",
            "Name: GPA, Length: 84, dtype: float64\n",
            "[[2.4 ]\n",
            " [2.52]\n",
            " [2.54]\n",
            " [2.74]\n",
            " [2.83]\n",
            " [2.91]\n",
            " [3.  ]\n",
            " [3.  ]\n",
            " [3.01]\n",
            " [3.01]\n",
            " [3.02]\n",
            " [3.07]\n",
            " [3.08]\n",
            " [3.08]\n",
            " [3.12]\n",
            " [3.17]\n",
            " [3.17]\n",
            " [3.17]\n",
            " [3.17]\n",
            " [3.19]\n",
            " [3.19]\n",
            " [3.19]\n",
            " [3.2 ]\n",
            " [3.21]\n",
            " [3.24]\n",
            " [3.28]\n",
            " [3.28]\n",
            " [3.28]\n",
            " [3.28]\n",
            " [3.28]\n",
            " [3.28]\n",
            " [3.28]\n",
            " [3.29]\n",
            " [3.29]\n",
            " [3.29]\n",
            " [3.31]\n",
            " [3.32]\n",
            " [3.34]\n",
            " [3.37]\n",
            " [3.37]\n",
            " [3.37]\n",
            " [3.38]\n",
            " [3.38]\n",
            " [3.39]\n",
            " [3.39]\n",
            " [3.4 ]\n",
            " [3.4 ]\n",
            " [3.4 ]\n",
            " [3.41]\n",
            " [3.41]\n",
            " [3.41]\n",
            " [3.42]\n",
            " [3.42]\n",
            " [3.42]\n",
            " [3.44]\n",
            " [3.47]\n",
            " [3.47]\n",
            " [3.47]\n",
            " [3.47]\n",
            " [3.48]\n",
            " [3.49]\n",
            " [3.49]\n",
            " [3.5 ]\n",
            " [3.51]\n",
            " [3.51]\n",
            " [3.52]\n",
            " [3.52]\n",
            " [3.54]\n",
            " [3.58]\n",
            " [3.58]\n",
            " [3.59]\n",
            " [3.59]\n",
            " [3.6 ]\n",
            " [3.6 ]\n",
            " [3.61]\n",
            " [3.62]\n",
            " [3.64]\n",
            " [3.65]\n",
            " [3.71]\n",
            " [3.71]\n",
            " [3.71]\n",
            " [3.73]\n",
            " [3.76]\n",
            " [3.81]]\n",
            "0     1714\n",
            "1     1664\n",
            "2     1760\n",
            "3     1685\n",
            "4     1693\n",
            "      ... \n",
            "79    1936\n",
            "80    1810\n",
            "81    1987\n",
            "82    1962\n",
            "83    2050\n",
            "Name: SAT, Length: 84, dtype: int64\n",
            "[[1714]\n",
            " [1664]\n",
            " [1760]\n",
            " [1685]\n",
            " [1693]\n",
            " [1670]\n",
            " [1764]\n",
            " [1764]\n",
            " [1792]\n",
            " [1850]\n",
            " [1735]\n",
            " [1775]\n",
            " [1735]\n",
            " [1712]\n",
            " [1773]\n",
            " [1872]\n",
            " [1755]\n",
            " [1674]\n",
            " [1842]\n",
            " [1786]\n",
            " [1761]\n",
            " [1722]\n",
            " [1663]\n",
            " [1687]\n",
            " [1974]\n",
            " [1826]\n",
            " [1787]\n",
            " [1821]\n",
            " [2020]\n",
            " [1794]\n",
            " [1769]\n",
            " [1934]\n",
            " [1775]\n",
            " [1855]\n",
            " [1880]\n",
            " [1849]\n",
            " [1808]\n",
            " [1954]\n",
            " [1777]\n",
            " [1831]\n",
            " [1865]\n",
            " [1850]\n",
            " [1966]\n",
            " [1702]\n",
            " [1990]\n",
            " [1925]\n",
            " [1824]\n",
            " [1956]\n",
            " [1857]\n",
            " [1979]\n",
            " [1802]\n",
            " [1855]\n",
            " [1907]\n",
            " [1634]\n",
            " [1879]\n",
            " [1887]\n",
            " [1730]\n",
            " [1953]\n",
            " [1781]\n",
            " [1891]\n",
            " [1964]\n",
            " [1808]\n",
            " [1893]\n",
            " [2041]\n",
            " [1893]\n",
            " [1832]\n",
            " [1850]\n",
            " [1934]\n",
            " [1861]\n",
            " [1931]\n",
            " [1933]\n",
            " [1778]\n",
            " [1975]\n",
            " [1934]\n",
            " [2021]\n",
            " [2015]\n",
            " [1997]\n",
            " [2020]\n",
            " [1843]\n",
            " [1936]\n",
            " [1810]\n",
            " [1987]\n",
            " [1962]\n",
            " [2050]]\n"
          ]
        }
      ]
    },
    {
      "cell_type": "code",
      "source": [
        "model = LinearRegression().fit(x1, y1)\n",
        "#model = LinearRegression().fit(x, y)"
      ],
      "metadata": {
        "id": "ZkhbIZy12peX"
      },
      "execution_count": 6,
      "outputs": []
    },
    {
      "cell_type": "code",
      "source": [
        "r_sq = model.score(x1, y1)\n",
        "print('coefficient of determination:', r_sq)\n",
        "print('intercept:', model.intercept_)\n",
        "print('slope:', model.coef_)\n"
      ],
      "metadata": {
        "colab": {
          "base_uri": "https://localhost:8080/"
        },
        "id": "fOQB6PGO2tCg",
        "outputId": "820298b6-db53-4a8b-b487-d4581dac8e9f"
      },
      "execution_count": 7,
      "outputs": [
        {
          "output_type": "stream",
          "name": "stdout",
          "text": [
            "coefficient of determination: 0.40600391479679754\n",
            "intercept: [0.2750403]\n",
            "slope: [[0.00165569]]\n"
          ]
        }
      ]
    },
    {
      "cell_type": "code",
      "source": [
        "y_pred = model.predict(x1)\n",
        "print('predicted response:', y_pred, sep='\\n')"
      ],
      "metadata": {
        "colab": {
          "base_uri": "https://localhost:8080/"
        },
        "id": "WGv2tIVX23GG",
        "outputId": "2d932a23-67ca-45ef-c1d6-c4a35193fbe4"
      },
      "execution_count": 8,
      "outputs": [
        {
          "output_type": "stream",
          "name": "stdout",
          "text": [
            "predicted response:\n",
            "[[3.11288962]\n",
            " [3.03010522]\n",
            " [3.18905127]\n",
            " [3.06487466]\n",
            " [3.07812017]\n",
            " [3.04003934]\n",
            " [3.19567402]\n",
            " [3.19567402]\n",
            " [3.24203329]\n",
            " [3.33806319]\n",
            " [3.14765907]\n",
            " [3.21388659]\n",
            " [3.14765907]\n",
            " [3.10957824]\n",
            " [3.21057521]\n",
            " [3.37448833]\n",
            " [3.18077283]\n",
            " [3.0466621 ]\n",
            " [3.32481769]\n",
            " [3.23209916]\n",
            " [3.19070696]\n",
            " [3.12613512]\n",
            " [3.02844953]\n",
            " [3.06818604]\n",
            " [3.54336851]\n",
            " [3.29832668]\n",
            " [3.23375485]\n",
            " [3.29004824]\n",
            " [3.61953016]\n",
            " [3.24534466]\n",
            " [3.20395246]\n",
            " [3.47714099]\n",
            " [3.21388659]\n",
            " [3.34634163]\n",
            " [3.38773383]\n",
            " [3.3364075 ]\n",
            " [3.26852429]\n",
            " [3.51025475]\n",
            " [3.21719796]\n",
            " [3.30660512]\n",
            " [3.36289851]\n",
            " [3.33806319]\n",
            " [3.53012301]\n",
            " [3.09302136]\n",
            " [3.56985952]\n",
            " [3.4622398 ]\n",
            " [3.2950153 ]\n",
            " [3.51356613]\n",
            " [3.34965301]\n",
            " [3.55164695]\n",
            " [3.25859017]\n",
            " [3.34634163]\n",
            " [3.43243741]\n",
            " [2.98043457]\n",
            " [3.38607815]\n",
            " [3.39932365]\n",
            " [3.13938063]\n",
            " [3.50859906]\n",
            " [3.22382072]\n",
            " [3.4059464 ]\n",
            " [3.52681163]\n",
            " [3.26852429]\n",
            " [3.40925778]\n",
            " [3.65429961]\n",
            " [3.40925778]\n",
            " [3.30826081]\n",
            " [3.33806319]\n",
            " [3.47714099]\n",
            " [3.35627576]\n",
            " [3.47217392]\n",
            " [3.4754853 ]\n",
            " [3.21885365]\n",
            " [3.5450242 ]\n",
            " [3.47714099]\n",
            " [3.62118585]\n",
            " [3.61125172]\n",
            " [3.58144934]\n",
            " [3.61953016]\n",
            " [3.32647338]\n",
            " [3.48045236]\n",
            " [3.27183567]\n",
            " [3.56489246]\n",
            " [3.52350025]\n",
            " [3.6692008 ]]\n"
          ]
        }
      ]
    },
    {
      "cell_type": "code",
      "source": [
        "print(model.predict([[1600]]))"
      ],
      "metadata": {
        "colab": {
          "base_uri": "https://localhost:8080/"
        },
        "id": "lpd6Xbza264S",
        "outputId": "bdef51ba-3460-4e45-fd0d-f181484f3b16"
      },
      "execution_count": 9,
      "outputs": [
        {
          "output_type": "stream",
          "name": "stdout",
          "text": [
            "[[2.92414118]]\n"
          ]
        }
      ]
    },
    {
      "cell_type": "markdown",
      "source": [
        "Hours And Scores"
      ],
      "metadata": {
        "id": "07kArQiaZOfS"
      }
    },
    {
      "cell_type": "code",
      "source": [
        "df=pd.read_csv('https://raw.githubusercontent.com/nethajinirmal13/Training-datasets/main/student_scores.csv')\n",
        "df.head()\n",
        "df.info()\n",
        "df.describe()\n"
      ],
      "metadata": {
        "colab": {
          "base_uri": "https://localhost:8080/",
          "height": 456
        },
        "id": "HlLjHGF0nMJr",
        "outputId": "610202d0-6bd4-41c9-9e81-7ae7a545a64e"
      },
      "execution_count": 10,
      "outputs": [
        {
          "output_type": "stream",
          "name": "stdout",
          "text": [
            "<class 'pandas.core.frame.DataFrame'>\n",
            "RangeIndex: 25 entries, 0 to 24\n",
            "Data columns (total 2 columns):\n",
            " #   Column  Non-Null Count  Dtype  \n",
            "---  ------  --------------  -----  \n",
            " 0   Hours   25 non-null     float64\n",
            " 1   Scores  25 non-null     int64  \n",
            "dtypes: float64(1), int64(1)\n",
            "memory usage: 528.0 bytes\n"
          ]
        },
        {
          "output_type": "execute_result",
          "data": {
            "text/html": [
              "\n",
              "  <div id=\"df-ae98dcf2-4553-423e-be20-a6d2f2cf2e91\">\n",
              "    <div class=\"colab-df-container\">\n",
              "      <div>\n",
              "<style scoped>\n",
              "    .dataframe tbody tr th:only-of-type {\n",
              "        vertical-align: middle;\n",
              "    }\n",
              "\n",
              "    .dataframe tbody tr th {\n",
              "        vertical-align: top;\n",
              "    }\n",
              "\n",
              "    .dataframe thead th {\n",
              "        text-align: right;\n",
              "    }\n",
              "</style>\n",
              "<table border=\"1\" class=\"dataframe\">\n",
              "  <thead>\n",
              "    <tr style=\"text-align: right;\">\n",
              "      <th></th>\n",
              "      <th>Hours</th>\n",
              "      <th>Scores</th>\n",
              "    </tr>\n",
              "  </thead>\n",
              "  <tbody>\n",
              "    <tr>\n",
              "      <th>count</th>\n",
              "      <td>25.000000</td>\n",
              "      <td>25.000000</td>\n",
              "    </tr>\n",
              "    <tr>\n",
              "      <th>mean</th>\n",
              "      <td>5.012000</td>\n",
              "      <td>51.480000</td>\n",
              "    </tr>\n",
              "    <tr>\n",
              "      <th>std</th>\n",
              "      <td>2.525094</td>\n",
              "      <td>25.286887</td>\n",
              "    </tr>\n",
              "    <tr>\n",
              "      <th>min</th>\n",
              "      <td>1.100000</td>\n",
              "      <td>17.000000</td>\n",
              "    </tr>\n",
              "    <tr>\n",
              "      <th>25%</th>\n",
              "      <td>2.700000</td>\n",
              "      <td>30.000000</td>\n",
              "    </tr>\n",
              "    <tr>\n",
              "      <th>50%</th>\n",
              "      <td>4.800000</td>\n",
              "      <td>47.000000</td>\n",
              "    </tr>\n",
              "    <tr>\n",
              "      <th>75%</th>\n",
              "      <td>7.400000</td>\n",
              "      <td>75.000000</td>\n",
              "    </tr>\n",
              "    <tr>\n",
              "      <th>max</th>\n",
              "      <td>9.200000</td>\n",
              "      <td>95.000000</td>\n",
              "    </tr>\n",
              "  </tbody>\n",
              "</table>\n",
              "</div>\n",
              "      <button class=\"colab-df-convert\" onclick=\"convertToInteractive('df-ae98dcf2-4553-423e-be20-a6d2f2cf2e91')\"\n",
              "              title=\"Convert this dataframe to an interactive table.\"\n",
              "              style=\"display:none;\">\n",
              "        \n",
              "  <svg xmlns=\"http://www.w3.org/2000/svg\" height=\"24px\"viewBox=\"0 0 24 24\"\n",
              "       width=\"24px\">\n",
              "    <path d=\"M0 0h24v24H0V0z\" fill=\"none\"/>\n",
              "    <path d=\"M18.56 5.44l.94 2.06.94-2.06 2.06-.94-2.06-.94-.94-2.06-.94 2.06-2.06.94zm-11 1L8.5 8.5l.94-2.06 2.06-.94-2.06-.94L8.5 2.5l-.94 2.06-2.06.94zm10 10l.94 2.06.94-2.06 2.06-.94-2.06-.94-.94-2.06-.94 2.06-2.06.94z\"/><path d=\"M17.41 7.96l-1.37-1.37c-.4-.4-.92-.59-1.43-.59-.52 0-1.04.2-1.43.59L10.3 9.45l-7.72 7.72c-.78.78-.78 2.05 0 2.83L4 21.41c.39.39.9.59 1.41.59.51 0 1.02-.2 1.41-.59l7.78-7.78 2.81-2.81c.8-.78.8-2.07 0-2.86zM5.41 20L4 18.59l7.72-7.72 1.47 1.35L5.41 20z\"/>\n",
              "  </svg>\n",
              "      </button>\n",
              "      \n",
              "  <style>\n",
              "    .colab-df-container {\n",
              "      display:flex;\n",
              "      flex-wrap:wrap;\n",
              "      gap: 12px;\n",
              "    }\n",
              "\n",
              "    .colab-df-convert {\n",
              "      background-color: #E8F0FE;\n",
              "      border: none;\n",
              "      border-radius: 50%;\n",
              "      cursor: pointer;\n",
              "      display: none;\n",
              "      fill: #1967D2;\n",
              "      height: 32px;\n",
              "      padding: 0 0 0 0;\n",
              "      width: 32px;\n",
              "    }\n",
              "\n",
              "    .colab-df-convert:hover {\n",
              "      background-color: #E2EBFA;\n",
              "      box-shadow: 0px 1px 2px rgba(60, 64, 67, 0.3), 0px 1px 3px 1px rgba(60, 64, 67, 0.15);\n",
              "      fill: #174EA6;\n",
              "    }\n",
              "\n",
              "    [theme=dark] .colab-df-convert {\n",
              "      background-color: #3B4455;\n",
              "      fill: #D2E3FC;\n",
              "    }\n",
              "\n",
              "    [theme=dark] .colab-df-convert:hover {\n",
              "      background-color: #434B5C;\n",
              "      box-shadow: 0px 1px 3px 1px rgba(0, 0, 0, 0.15);\n",
              "      filter: drop-shadow(0px 1px 2px rgba(0, 0, 0, 0.3));\n",
              "      fill: #FFFFFF;\n",
              "    }\n",
              "  </style>\n",
              "\n",
              "      <script>\n",
              "        const buttonEl =\n",
              "          document.querySelector('#df-ae98dcf2-4553-423e-be20-a6d2f2cf2e91 button.colab-df-convert');\n",
              "        buttonEl.style.display =\n",
              "          google.colab.kernel.accessAllowed ? 'block' : 'none';\n",
              "\n",
              "        async function convertToInteractive(key) {\n",
              "          const element = document.querySelector('#df-ae98dcf2-4553-423e-be20-a6d2f2cf2e91');\n",
              "          const dataTable =\n",
              "            await google.colab.kernel.invokeFunction('convertToInteractive',\n",
              "                                                     [key], {});\n",
              "          if (!dataTable) return;\n",
              "\n",
              "          const docLinkHtml = 'Like what you see? Visit the ' +\n",
              "            '<a target=\"_blank\" href=https://colab.research.google.com/notebooks/data_table.ipynb>data table notebook</a>'\n",
              "            + ' to learn more about interactive tables.';\n",
              "          element.innerHTML = '';\n",
              "          dataTable['output_type'] = 'display_data';\n",
              "          await google.colab.output.renderOutput(dataTable, element);\n",
              "          const docLink = document.createElement('div');\n",
              "          docLink.innerHTML = docLinkHtml;\n",
              "          element.appendChild(docLink);\n",
              "        }\n",
              "      </script>\n",
              "    </div>\n",
              "  </div>\n",
              "  "
            ],
            "text/plain": [
              "           Hours     Scores\n",
              "count  25.000000  25.000000\n",
              "mean    5.012000  51.480000\n",
              "std     2.525094  25.286887\n",
              "min     1.100000  17.000000\n",
              "25%     2.700000  30.000000\n",
              "50%     4.800000  47.000000\n",
              "75%     7.400000  75.000000\n",
              "max     9.200000  95.000000"
            ]
          },
          "metadata": {},
          "execution_count": 10
        }
      ]
    },
    {
      "cell_type": "code",
      "source": [
        "plt.scatter(x=df['Scores'],y=df['Hours'])"
      ],
      "metadata": {
        "colab": {
          "base_uri": "https://localhost:8080/",
          "height": 282
        },
        "id": "g9v-VszyoCQw",
        "outputId": "f21edab8-0f3f-46f2-8519-7f625b5af089"
      },
      "execution_count": 11,
      "outputs": [
        {
          "output_type": "execute_result",
          "data": {
            "text/plain": [
              "<matplotlib.collections.PathCollection at 0x7f0ccb6b49d0>"
            ]
          },
          "metadata": {},
          "execution_count": 11
        },
        {
          "output_type": "display_data",
          "data": {
            "image/png": "[encoded data removed]",
            "text/plain": [
              "<Figure size 432x288 with 1 Axes>"
            ]
          },
          "metadata": {
            "needs_background": "light"
          }
        }
      ]
    },
    {
      "cell_type": "code",
      "source": [
        "X=df.iloc[:,:-1].values\n",
        "Y=df.iloc[:,1]"
      ],
      "metadata": {
        "id": "miKKDVHyomTk"
      },
      "execution_count": 12,
      "outputs": []
    },
    {
      "cell_type": "code",
      "source": [
        "from sklearn.model_selection import train_test_split\n",
        "X_train,X_test,Y_train,Y_test=train_test_split(X,Y, test_size = 0.35,random_state=0)"
      ],
      "metadata": {
        "id": "FSHNDz5nqfad"
      },
      "execution_count": 13,
      "outputs": []
    },
    {
      "cell_type": "code",
      "source": [
        "from sklearn.linear_model import LinearRegression\n",
        "model=LinearRegression()\n",
        "model.fit(X_train,Y_train)\n",
        "print(model.intercept_)\n",
        "print(model.coef_)"
      ],
      "metadata": {
        "colab": {
          "base_uri": "https://localhost:8080/"
        },
        "id": "JfzuoWQzw7qy",
        "outputId": "098fd87d-05c4-4303-f58c-c6b87a0d19f4"
      },
      "execution_count": 14,
      "outputs": [
        {
          "output_type": "stream",
          "name": "stdout",
          "text": [
            "2.5069547569547197\n",
            "[9.69062469]\n"
          ]
        }
      ]
    },
    {
      "cell_type": "code",
      "source": [
        "Yp=model.predict(X_test)\n",
        "print(Yp)"
      ],
      "metadata": {
        "colab": {
          "base_uri": "https://localhost:8080/"
        },
        "id": "dOdnc41cxxKp",
        "outputId": "7415a8f1-1d7e-43a8-8e15-0a36e13f3b1d"
      },
      "execution_count": 15,
      "outputs": [
        {
          "output_type": "stream",
          "name": "stdout",
          "text": [
            "[17.04289179 33.51695377 74.21757747 26.73351648 59.68164043 39.33132858\n",
            " 20.91914167 78.09382734 69.37226512]\n"
          ]
        }
      ]
    },
    {
      "cell_type": "code",
      "source": [
        "d=pd.DataFrame({'Actual':Y_test,'Predicted':Yp})\n",
        "print(d)\n"
      ],
      "metadata": {
        "colab": {
          "base_uri": "https://localhost:8080/"
        },
        "id": "H6AYJ4styBBq",
        "outputId": "0f9e7da4-ad10-487a-af5f-518f5c5b029e"
      },
      "execution_count": 16,
      "outputs": [
        {
          "output_type": "stream",
          "name": "stdout",
          "text": [
            "    Actual  Predicted\n",
            "5       20  17.042892\n",
            "2       27  33.516954\n",
            "19      69  74.217577\n",
            "16      30  26.733516\n",
            "11      62  59.681640\n",
            "22      35  39.331329\n",
            "17      24  20.919142\n",
            "24      86  78.093827\n",
            "23      76  69.372265\n"
          ]
        }
      ]
    },
    {
      "cell_type": "code",
      "source": [
        "from sklearn import metrics\n",
        "print('MAE:',metrics.mean_absolute_error(Y_test,Yp))\n",
        "print('MSE:',metrics.mean_squared_error(Y_test,Yp))\n",
        "print(\"RMSE:\",np.sqrt(metrics.mean_squared_error(Y_test,Yp)))"
      ],
      "metadata": {
        "colab": {
          "base_uri": "https://localhost:8080/"
        },
        "id": "eAc64tl4yj_N",
        "outputId": "118ddcbb-a88b-4849-f85a-bc3a242ae51f"
      },
      "execution_count": 17,
      "outputs": [
        {
          "output_type": "stream",
          "name": "stdout",
          "text": [
            "MAE: 4.691397441397446\n",
            "MSE: 25.463280738222593\n",
            "RMSE: 5.046115410711748\n"
          ]
        }
      ]
    },
    {
      "cell_type": "code",
      "source": [
        "score=model.score(X_test,Y_test)\n",
        "print(score)\n",
        "print(score*100)"
      ],
      "metadata": {
        "colab": {
          "base_uri": "https://localhost:8080/"
        },
        "id": "lyqMqB1VzNbr",
        "outputId": "feb58fed-ecb8-4cc5-b042-9491e54f6687"
      },
      "execution_count": 18,
      "outputs": [
        {
          "output_type": "stream",
          "name": "stdout",
          "text": [
            "0.9555700801388128\n",
            "95.55700801388129\n"
          ]
        }
      ]
    },
    {
      "cell_type": "code",
      "source": [
        "print(model.predict([[23]]))"
      ],
      "metadata": {
        "colab": {
          "base_uri": "https://localhost:8080/"
        },
        "id": "Res0hAOp0FOm",
        "outputId": "637d1706-662a-4a3a-c921-6805fd77e3d4"
      },
      "execution_count": 19,
      "outputs": [
        {
          "output_type": "stream",
          "name": "stdout",
          "text": [
            "[225.39132264]\n"
          ]
        }
      ]
    },
    {
      "cell_type": "markdown",
      "source": [
        "Multivariant\n"
      ],
      "metadata": {
        "id": "k7SHU2RU2DSk"
      }
    },
    {
      "cell_type": "markdown",
      "source": [
        "USA Housing"
      ],
      "metadata": {
        "id": "0OgnQgwbZZuz"
      }
    },
    {
      "cell_type": "code",
      "source": [
        "df=pd.read_csv('https://raw.githubusercontent.com/nethajinirmal13/Training-datasets/main/USA_Housing.csv')\n",
        "df.head()\n",
        "df.info()\n",
        "df.describe()"
      ],
      "metadata": {
        "colab": {
          "base_uri": "https://localhost:8080/",
          "height": 543
        },
        "id": "cs6bHDVx2BdA",
        "outputId": "101ac3b6-3930-4026-b427-714bd0527e52"
      },
      "execution_count": 20,
      "outputs": [
        {
          "output_type": "stream",
          "name": "stdout",
          "text": [
            "<class 'pandas.core.frame.DataFrame'>\n",
            "RangeIndex: 5000 entries, 0 to 4999\n",
            "Data columns (total 7 columns):\n",
            " #   Column                        Non-Null Count  Dtype  \n",
            "---  ------                        --------------  -----  \n",
            " 0   Avg. Area Income              5000 non-null   float64\n",
            " 1   Avg. Area House Age           5000 non-null   float64\n",
            " 2   Avg. Area Number of Rooms     5000 non-null   float64\n",
            " 3   Avg. Area Number of Bedrooms  5000 non-null   float64\n",
            " 4   Area Population               5000 non-null   float64\n",
            " 5   Price                         5000 non-null   float64\n",
            " 6   Address                       5000 non-null   object \n",
            "dtypes: float64(6), object(1)\n",
            "memory usage: 273.6+ KB\n"
          ]
        },
        {
          "output_type": "execute_result",
          "data": {
            "text/html": [
              "\n",
              "  <div id=\"df-0a48d9c4-e2a8-4bb2-884e-d51ffbfc8786\">\n",
              "    <div class=\"colab-df-container\">\n",
              "      <div>\n",
              "<style scoped>\n",
              "    .dataframe tbody tr th:only-of-type {\n",
              "        vertical-align: middle;\n",
              "    }\n",
              "\n",
              "    .dataframe tbody tr th {\n",
              "        vertical-align: top;\n",
              "    }\n",
              "\n",
              "    .dataframe thead th {\n",
              "        text-align: right;\n",
              "    }\n",
              "</style>\n",
              "<table border=\"1\" class=\"dataframe\">\n",
              "  <thead>\n",
              "    <tr style=\"text-align: right;\">\n",
              "      <th></th>\n",
              "      <th>Avg. Area Income</th>\n",
              "      <th>Avg. Area House Age</th>\n",
              "      <th>Avg. Area Number of Rooms</th>\n",
              "      <th>Avg. Area Number of Bedrooms</th>\n",
              "      <th>Area Population</th>\n",
              "      <th>Price</th>\n",
              "    </tr>\n",
              "  </thead>\n",
              "  <tbody>\n",
              "    <tr>\n",
              "      <th>count</th>\n",
              "      <td>5000.000000</td>\n",
              "      <td>5000.000000</td>\n",
              "      <td>5000.000000</td>\n",
              "      <td>5000.000000</td>\n",
              "      <td>5000.000000</td>\n",
              "      <td>5.000000e+03</td>\n",
              "    </tr>\n",
              "    <tr>\n",
              "      <th>mean</th>\n",
              "      <td>68583.108984</td>\n",
              "      <td>5.977222</td>\n",
              "      <td>6.987792</td>\n",
              "      <td>3.981330</td>\n",
              "      <td>36163.516039</td>\n",
              "      <td>1.232073e+06</td>\n",
              "    </tr>\n",
              "    <tr>\n",
              "      <th>std</th>\n",
              "      <td>10657.991214</td>\n",
              "      <td>0.991456</td>\n",
              "      <td>1.005833</td>\n",
              "      <td>1.234137</td>\n",
              "      <td>9925.650114</td>\n",
              "      <td>3.531176e+05</td>\n",
              "    </tr>\n",
              "    <tr>\n",
              "      <th>min</th>\n",
              "      <td>17796.631190</td>\n",
              "      <td>2.644304</td>\n",
              "      <td>3.236194</td>\n",
              "      <td>2.000000</td>\n",
              "      <td>172.610686</td>\n",
              "      <td>1.593866e+04</td>\n",
              "    </tr>\n",
              "    <tr>\n",
              "      <th>25%</th>\n",
              "      <td>61480.562388</td>\n",
              "      <td>5.322283</td>\n",
              "      <td>6.299250</td>\n",
              "      <td>3.140000</td>\n",
              "      <td>29403.928702</td>\n",
              "      <td>9.975771e+05</td>\n",
              "    </tr>\n",
              "    <tr>\n",
              "      <th>50%</th>\n",
              "      <td>68804.286404</td>\n",
              "      <td>5.970429</td>\n",
              "      <td>7.002902</td>\n",
              "      <td>4.050000</td>\n",
              "      <td>36199.406689</td>\n",
              "      <td>1.232669e+06</td>\n",
              "    </tr>\n",
              "    <tr>\n",
              "      <th>75%</th>\n",
              "      <td>75783.338666</td>\n",
              "      <td>6.650808</td>\n",
              "      <td>7.665871</td>\n",
              "      <td>4.490000</td>\n",
              "      <td>42861.290769</td>\n",
              "      <td>1.471210e+06</td>\n",
              "    </tr>\n",
              "    <tr>\n",
              "      <th>max</th>\n",
              "      <td>107701.748378</td>\n",
              "      <td>9.519088</td>\n",
              "      <td>10.759588</td>\n",
              "      <td>6.500000</td>\n",
              "      <td>69621.713378</td>\n",
              "      <td>2.469066e+06</td>\n",
              "    </tr>\n",
              "  </tbody>\n",
              "</table>\n",
              "</div>\n",
              "      <button class=\"colab-df-convert\" onclick=\"convertToInteractive('df-0a48d9c4-e2a8-4bb2-884e-d51ffbfc8786')\"\n",
              "              title=\"Convert this dataframe to an interactive table.\"\n",
              "              style=\"display:none;\">\n",
              "        \n",
              "  <svg xmlns=\"http://www.w3.org/2000/svg\" height=\"24px\"viewBox=\"0 0 24 24\"\n",
              "       width=\"24px\">\n",
              "    <path d=\"M0 0h24v24H0V0z\" fill=\"none\"/>\n",
              "    <path d=\"M18.56 5.44l.94 2.06.94-2.06 2.06-.94-2.06-.94-.94-2.06-.94 2.06-2.06.94zm-11 1L8.5 8.5l.94-2.06 2.06-.94-2.06-.94L8.5 2.5l-.94 2.06-2.06.94zm10 10l.94 2.06.94-2.06 2.06-.94-2.06-.94-.94-2.06-.94 2.06-2.06.94z\"/><path d=\"M17.41 7.96l-1.37-1.37c-.4-.4-.92-.59-1.43-.59-.52 0-1.04.2-1.43.59L10.3 9.45l-7.72 7.72c-.78.78-.78 2.05 0 2.83L4 21.41c.39.39.9.59 1.41.59.51 0 1.02-.2 1.41-.59l7.78-7.78 2.81-2.81c.8-.78.8-2.07 0-2.86zM5.41 20L4 18.59l7.72-7.72 1.47 1.35L5.41 20z\"/>\n",
              "  </svg>\n",
              "      </button>\n",
              "      \n",
              "  <style>\n",
              "    .colab-df-container {\n",
              "      display:flex;\n",
              "      flex-wrap:wrap;\n",
              "      gap: 12px;\n",
              "    }\n",
              "\n",
              "    .colab-df-convert {\n",
              "      background-color: #E8F0FE;\n",
              "      border: none;\n",
              "      border-radius: 50%;\n",
              "      cursor: pointer;\n",
              "      display: none;\n",
              "      fill: #1967D2;\n",
              "      height: 32px;\n",
              "      padding: 0 0 0 0;\n",
              "      width: 32px;\n",
              "    }\n",
              "\n",
              "    .colab-df-convert:hover {\n",
              "      background-color: #E2EBFA;\n",
              "      box-shadow: 0px 1px 2px rgba(60, 64, 67, 0.3), 0px 1px 3px 1px rgba(60, 64, 67, 0.15);\n",
              "      fill: #174EA6;\n",
              "    }\n",
              "\n",
              "    [theme=dark] .colab-df-convert {\n",
              "      background-color: #3B4455;\n",
              "      fill: #D2E3FC;\n",
              "    }\n",
              "\n",
              "    [theme=dark] .colab-df-convert:hover {\n",
              "      background-color: #434B5C;\n",
              "      box-shadow: 0px 1px 3px 1px rgba(0, 0, 0, 0.15);\n",
              "      filter: drop-shadow(0px 1px 2px rgba(0, 0, 0, 0.3));\n",
              "      fill: #FFFFFF;\n",
              "    }\n",
              "  </style>\n",
              "\n",
              "      <script>\n",
              "        const buttonEl =\n",
              "          document.querySelector('#df-0a48d9c4-e2a8-4bb2-884e-d51ffbfc8786 button.colab-df-convert');\n",
              "        buttonEl.style.display =\n",
              "          google.colab.kernel.accessAllowed ? 'block' : 'none';\n",
              "\n",
              "        async function convertToInteractive(key) {\n",
              "          const element = document.querySelector('#df-0a48d9c4-e2a8-4bb2-884e-d51ffbfc8786');\n",
              "          const dataTable =\n",
              "            await google.colab.kernel.invokeFunction('convertToInteractive',\n",
              "                                                     [key], {});\n",
              "          if (!dataTable) return;\n",
              "\n",
              "          const docLinkHtml = 'Like what you see? Visit the ' +\n",
              "            '<a target=\"_blank\" href=https://colab.research.google.com/notebooks/data_table.ipynb>data table notebook</a>'\n",
              "            + ' to learn more about interactive tables.';\n",
              "          element.innerHTML = '';\n",
              "          dataTable['output_type'] = 'display_data';\n",
              "          await google.colab.output.renderOutput(dataTable, element);\n",
              "          const docLink = document.createElement('div');\n",
              "          docLink.innerHTML = docLinkHtml;\n",
              "          element.appendChild(docLink);\n",
              "        }\n",
              "      </script>\n",
              "    </div>\n",
              "  </div>\n",
              "  "
            ],
            "text/plain": [
              "       Avg. Area Income  Avg. Area House Age  ...  Area Population         Price\n",
              "count       5000.000000          5000.000000  ...      5000.000000  5.000000e+03\n",
              "mean       68583.108984             5.977222  ...     36163.516039  1.232073e+06\n",
              "std        10657.991214             0.991456  ...      9925.650114  3.531176e+05\n",
              "min        17796.631190             2.644304  ...       172.610686  1.593866e+04\n",
              "25%        61480.562388             5.322283  ...     29403.928702  9.975771e+05\n",
              "50%        68804.286404             5.970429  ...     36199.406689  1.232669e+06\n",
              "75%        75783.338666             6.650808  ...     42861.290769  1.471210e+06\n",
              "max       107701.748378             9.519088  ...     69621.713378  2.469066e+06\n",
              "\n",
              "[8 rows x 6 columns]"
            ]
          },
          "metadata": {},
          "execution_count": 20
        }
      ]
    },
    {
      "cell_type": "code",
      "source": [
        "X1=df[['Avg. Area Income','Avg. Area House Age','Avg. Area Number of Rooms','Avg. Area Number of Bedrooms','Area Population']].values\n",
        "Y1=df['Price'].values"
      ],
      "metadata": {
        "id": "KLdXhrXp2CM6"
      },
      "execution_count": 21,
      "outputs": []
    },
    {
      "cell_type": "code",
      "source": [
        "from sklearn.model_selection import train_test_split\n",
        "X_ttrain,X_ttest,Y_ttrain,Y_ttest=train_test_split(X1,Y1, test_size = 0.35,random_state=0)"
      ],
      "metadata": {
        "id": "6-HHekdQ8EI1"
      },
      "execution_count": 22,
      "outputs": []
    },
    {
      "cell_type": "code",
      "source": [
        "from sklearn.linear_model import LinearRegression\n",
        "modelm=LinearRegression()\n",
        "modelm.fit(X_ttrain,Y_ttrain)\n",
        "print(modelm.intercept_)\n",
        "print(modelm.coef_)"
      ],
      "metadata": {
        "colab": {
          "base_uri": "https://localhost:8080/"
        },
        "id": "gBgkbvBe8uCr",
        "outputId": "5779c970-f210-48c4-ce2c-68ba702470ca"
      },
      "execution_count": 23,
      "outputs": [
        {
          "output_type": "stream",
          "name": "stdout",
          "text": [
            "-2651001.8909950005\n",
            "[2.17006775e+01 1.65719843e+05 1.20961799e+05 2.05856589e+03\n",
            " 1.52334552e+01]\n"
          ]
        }
      ]
    },
    {
      "cell_type": "code",
      "source": [
        "Ypm=modelm.predict(X_ttest)\n",
        "print(Ypm)"
      ],
      "metadata": {
        "colab": {
          "base_uri": "https://localhost:8080/"
        },
        "id": "WLpacMf99B90",
        "outputId": "c96bcecd-fb04-4f70-a91f-0c9714167c5f"
      },
      "execution_count": 24,
      "outputs": [
        {
          "output_type": "stream",
          "name": "stdout",
          "text": [
            "[ 970052.58260494  953775.27541669  907538.68823779 ... 1145731.54911865\n",
            "  728720.80462903 1102132.50135215]\n"
          ]
        }
      ]
    },
    {
      "cell_type": "code",
      "source": [
        "d=pd.DataFrame({'Actual':Y_ttest,'Predicted':Ypm})\n",
        "print(d)"
      ],
      "metadata": {
        "colab": {
          "base_uri": "https://localhost:8080/"
        },
        "id": "VV7qs2Sz9e-o",
        "outputId": "2181e38e-e35e-4e75-de72-a14afc5982e4"
      },
      "execution_count": 25,
      "outputs": [
        {
          "output_type": "stream",
          "name": "stdout",
          "text": [
            "            Actual     Predicted\n",
            "0     8.942511e+05  9.700526e+05\n",
            "1     9.329794e+05  9.537753e+05\n",
            "2     9.207479e+05  9.075387e+05\n",
            "3     6.918549e+05  4.916051e+05\n",
            "4     7.327332e+05  7.173316e+05\n",
            "...            ...           ...\n",
            "1745  1.591235e+06  1.731128e+06\n",
            "1746  9.163443e+05  9.679916e+05\n",
            "1747  1.197307e+06  1.145732e+06\n",
            "1748  6.754898e+05  7.287208e+05\n",
            "1749  1.096053e+06  1.102133e+06\n",
            "\n",
            "[1750 rows x 2 columns]\n"
          ]
        }
      ]
    },
    {
      "cell_type": "code",
      "source": [
        "from sklearn import metrics\n",
        "print('MAE:',metrics.mean_absolute_error(Y_ttest,Ypm))\n",
        "print('MSE:',metrics.mean_squared_error(Y_ttest,Ypm))\n",
        "print(\"RMSE:\",np.sqrt(metrics.mean_squared_error(Y_ttest,Ypm)))"
      ],
      "metadata": {
        "colab": {
          "base_uri": "https://localhost:8080/"
        },
        "id": "fxQer5989vhx",
        "outputId": "367289be-cc85-4a3f-ccd1-23d72e2a2609"
      },
      "execution_count": 26,
      "outputs": [
        {
          "output_type": "stream",
          "name": "stdout",
          "text": [
            "MAE: 80615.32712038072\n",
            "MSE: 10100568599.07409\n",
            "RMSE: 100501.5850575208\n"
          ]
        }
      ]
    },
    {
      "cell_type": "code",
      "source": [
        "score=modelm.score(X_ttest,Y_ttest)\n",
        "print(score)\n",
        "print(score*100)"
      ],
      "metadata": {
        "colab": {
          "base_uri": "https://localhost:8080/"
        },
        "id": "NAxOYv3z-DXs",
        "outputId": "18491202-5982-4f86-85a1-d48c1ca37f19"
      },
      "execution_count": 27,
      "outputs": [
        {
          "output_type": "stream",
          "name": "stdout",
          "text": [
            "0.9209976961306244\n",
            "92.09976961306245\n"
          ]
        }
      ]
    },
    {
      "cell_type": "code",
      "source": [
        "print(modelm.predict([[45,56,78,69,60]]))"
      ],
      "metadata": {
        "colab": {
          "base_uri": "https://localhost:8080/"
        },
        "id": "WWPY7Ilo-NH1",
        "outputId": "32571cd8-a2c1-4915-df02-15921398c386"
      },
      "execution_count": 28,
      "outputs": [
        {
          "output_type": "stream",
          "name": "stdout",
          "text": [
            "[16208261.19983781]\n"
          ]
        }
      ]
    },
    {
      "cell_type": "code",
      "source": [
        "import pickle\n",
        "with open(\"knowlege_pkl\",\"wb\") as files:\n",
        " pickle.dump(modelm, files)"
      ],
      "metadata": {
        "id": "kaGlwwhT-oyH"
      },
      "execution_count": 29,
      "outputs": []
    },
    {
      "cell_type": "code",
      "source": [
        "import pickle\n",
        "with open(\"knowlege_pkl\",\"rb\") as files:\n",
        " modelmn=pickle.load(files)"
      ],
      "metadata": {
        "id": "5T7Z5QJJ-42j"
      },
      "execution_count": 30,
      "outputs": []
    },
    {
      "cell_type": "code",
      "source": [
        "plt.plot(X1,Y1,\"o\")\n",
        "plt.plot(X1,modelm.predict(X1))"
      ],
      "metadata": {
        "colab": {
          "base_uri": "https://localhost:8080/",
          "height": 363
        },
        "id": "0pAF1ylX-_uq",
        "outputId": "ccd88cb5-1c2c-4fb7-9904-73bc5f3277b5"
      },
      "execution_count": 31,
      "outputs": [
        {
          "output_type": "execute_result",
          "data": {
            "text/plain": [
              "[<matplotlib.lines.Line2D at 0x7f0ccb0e61d0>,\n",
              " <matplotlib.lines.Line2D at 0x7f0cc90390d0>,\n",
              " <matplotlib.lines.Line2D at 0x7f0cc9039290>,\n",
              " <matplotlib.lines.Line2D at 0x7f0cc90a7b10>,\n",
              " <matplotlib.lines.Line2D at 0x7f0cc9039590>]"
            ]
          },
          "metadata": {},
          "execution_count": 31
        },
        {
          "output_type": "display_data",
          "data": {
            "image/png": "[encoded data removed]",
            "text/plain": [
              "<Figure size 432x288 with 1 Axes>"
            ]
          },
          "metadata": {
            "needs_background": "light"
          }
        }
      ]
    },
    {
      "cell_type": "markdown",
      "source": [
        "Logistic\n"
      ],
      "metadata": {
        "id": "gbnjuXe52sXY"
      }
    },
    {
      "cell_type": "markdown",
      "source": [
        "Diabetes"
      ],
      "metadata": {
        "id": "RPeSsxeTZi6l"
      }
    },
    {
      "cell_type": "code",
      "source": [
        "df1=pd.read_csv('https://raw.githubusercontent.com/nethajinirmal13/Training-datasets/main/diabetes.csv')\n",
        "df1.head()\n",
        "df1.info()\n",
        "df1.describe()"
      ],
      "metadata": {
        "colab": {
          "base_uri": "https://localhost:8080/",
          "height": 578
        },
        "id": "o7fGBZcV2v1g",
        "outputId": "7222a57b-37ca-4913-e0ba-fec725d017a8"
      },
      "execution_count": 32,
      "outputs": [
        {
          "output_type": "stream",
          "name": "stdout",
          "text": [
            "<class 'pandas.core.frame.DataFrame'>\n",
            "RangeIndex: 768 entries, 0 to 767\n",
            "Data columns (total 9 columns):\n",
            " #   Column                    Non-Null Count  Dtype  \n",
            "---  ------                    --------------  -----  \n",
            " 0   Pregnancies               768 non-null    int64  \n",
            " 1   Glucose                   768 non-null    int64  \n",
            " 2   BloodPressure             768 non-null    int64  \n",
            " 3   SkinThickness             768 non-null    int64  \n",
            " 4   Insulin                   768 non-null    int64  \n",
            " 5   BMI                       768 non-null    float64\n",
            " 6   DiabetesPedigreeFunction  768 non-null    float64\n",
            " 7   Age                       768 non-null    int64  \n",
            " 8   Outcome                   768 non-null    int64  \n",
            "dtypes: float64(2), int64(7)\n",
            "memory usage: 54.1 KB\n"
          ]
        },
        {
          "output_type": "execute_result",
          "data": {
            "text/html": [
              "\n",
              "  <div id=\"df-16f320d0-062d-447a-9e57-d1d74bb715e1\">\n",
              "    <div class=\"colab-df-container\">\n",
              "      <div>\n",
              "<style scoped>\n",
              "    .dataframe tbody tr th:only-of-type {\n",
              "        vertical-align: middle;\n",
              "    }\n",
              "\n",
              "    .dataframe tbody tr th {\n",
              "        vertical-align: top;\n",
              "    }\n",
              "\n",
              "    .dataframe thead th {\n",
              "        text-align: right;\n",
              "    }\n",
              "</style>\n",
              "<table border=\"1\" class=\"dataframe\">\n",
              "  <thead>\n",
              "    <tr style=\"text-align: right;\">\n",
              "      <th></th>\n",
              "      <th>Pregnancies</th>\n",
              "      <th>Glucose</th>\n",
              "      <th>BloodPressure</th>\n",
              "      <th>SkinThickness</th>\n",
              "      <th>Insulin</th>\n",
              "      <th>BMI</th>\n",
              "      <th>DiabetesPedigreeFunction</th>\n",
              "      <th>Age</th>\n",
              "      <th>Outcome</th>\n",
              "    </tr>\n",
              "  </thead>\n",
              "  <tbody>\n",
              "    <tr>\n",
              "      <th>count</th>\n",
              "      <td>768.000000</td>\n",
              "      <td>768.000000</td>\n",
              "      <td>768.000000</td>\n",
              "      <td>768.000000</td>\n",
              "      <td>768.000000</td>\n",
              "      <td>768.000000</td>\n",
              "      <td>768.000000</td>\n",
              "      <td>768.000000</td>\n",
              "      <td>768.000000</td>\n",
              "    </tr>\n",
              "    <tr>\n",
              "      <th>mean</th>\n",
              "      <td>3.845052</td>\n",
              "      <td>120.894531</td>\n",
              "      <td>69.105469</td>\n",
              "      <td>20.536458</td>\n",
              "      <td>79.799479</td>\n",
              "      <td>31.992578</td>\n",
              "      <td>0.471876</td>\n",
              "      <td>33.240885</td>\n",
              "      <td>0.348958</td>\n",
              "    </tr>\n",
              "    <tr>\n",
              "      <th>std</th>\n",
              "      <td>3.369578</td>\n",
              "      <td>31.972618</td>\n",
              "      <td>19.355807</td>\n",
              "      <td>15.952218</td>\n",
              "      <td>115.244002</td>\n",
              "      <td>7.884160</td>\n",
              "      <td>0.331329</td>\n",
              "      <td>11.760232</td>\n",
              "      <td>0.476951</td>\n",
              "    </tr>\n",
              "    <tr>\n",
              "      <th>min</th>\n",
              "      <td>0.000000</td>\n",
              "      <td>0.000000</td>\n",
              "      <td>0.000000</td>\n",
              "      <td>0.000000</td>\n",
              "      <td>0.000000</td>\n",
              "      <td>0.000000</td>\n",
              "      <td>0.078000</td>\n",
              "      <td>21.000000</td>\n",
              "      <td>0.000000</td>\n",
              "    </tr>\n",
              "    <tr>\n",
              "      <th>25%</th>\n",
              "      <td>1.000000</td>\n",
              "      <td>99.000000</td>\n",
              "      <td>62.000000</td>\n",
              "      <td>0.000000</td>\n",
              "      <td>0.000000</td>\n",
              "      <td>27.300000</td>\n",
              "      <td>0.243750</td>\n",
              "      <td>24.000000</td>\n",
              "      <td>0.000000</td>\n",
              "    </tr>\n",
              "    <tr>\n",
              "      <th>50%</th>\n",
              "      <td>3.000000</td>\n",
              "      <td>117.000000</td>\n",
              "      <td>72.000000</td>\n",
              "      <td>23.000000</td>\n",
              "      <td>30.500000</td>\n",
              "      <td>32.000000</td>\n",
              "      <td>0.372500</td>\n",
              "      <td>29.000000</td>\n",
              "      <td>0.000000</td>\n",
              "    </tr>\n",
              "    <tr>\n",
              "      <th>75%</th>\n",
              "      <td>6.000000</td>\n",
              "      <td>140.250000</td>\n",
              "      <td>80.000000</td>\n",
              "      <td>32.000000</td>\n",
              "      <td>127.250000</td>\n",
              "      <td>36.600000</td>\n",
              "      <td>0.626250</td>\n",
              "      <td>41.000000</td>\n",
              "      <td>1.000000</td>\n",
              "    </tr>\n",
              "    <tr>\n",
              "      <th>max</th>\n",
              "      <td>17.000000</td>\n",
              "      <td>199.000000</td>\n",
              "      <td>122.000000</td>\n",
              "      <td>99.000000</td>\n",
              "      <td>846.000000</td>\n",
              "      <td>67.100000</td>\n",
              "      <td>2.420000</td>\n",
              "      <td>81.000000</td>\n",
              "      <td>1.000000</td>\n",
              "    </tr>\n",
              "  </tbody>\n",
              "</table>\n",
              "</div>\n",
              "      <button class=\"colab-df-convert\" onclick=\"convertToInteractive('df-16f320d0-062d-447a-9e57-d1d74bb715e1')\"\n",
              "              title=\"Convert this dataframe to an interactive table.\"\n",
              "              style=\"display:none;\">\n",
              "        \n",
              "  <svg xmlns=\"http://www.w3.org/2000/svg\" height=\"24px\"viewBox=\"0 0 24 24\"\n",
              "       width=\"24px\">\n",
              "    <path d=\"M0 0h24v24H0V0z\" fill=\"none\"/>\n",
              "    <path d=\"M18.56 5.44l.94 2.06.94-2.06 2.06-.94-2.06-.94-.94-2.06-.94 2.06-2.06.94zm-11 1L8.5 8.5l.94-2.06 2.06-.94-2.06-.94L8.5 2.5l-.94 2.06-2.06.94zm10 10l.94 2.06.94-2.06 2.06-.94-2.06-.94-.94-2.06-.94 2.06-2.06.94z\"/><path d=\"M17.41 7.96l-1.37-1.37c-.4-.4-.92-.59-1.43-.59-.52 0-1.04.2-1.43.59L10.3 9.45l-7.72 7.72c-.78.78-.78 2.05 0 2.83L4 21.41c.39.39.9.59 1.41.59.51 0 1.02-.2 1.41-.59l7.78-7.78 2.81-2.81c.8-.78.8-2.07 0-2.86zM5.41 20L4 18.59l7.72-7.72 1.47 1.35L5.41 20z\"/>\n",
              "  </svg>\n",
              "      </button>\n",
              "      \n",
              "  <style>\n",
              "    .colab-df-container {\n",
              "      display:flex;\n",
              "      flex-wrap:wrap;\n",
              "      gap: 12px;\n",
              "    }\n",
              "\n",
              "    .colab-df-convert {\n",
              "      background-color: #E8F0FE;\n",
              "      border: none;\n",
              "      border-radius: 50%;\n",
              "      cursor: pointer;\n",
              "      display: none;\n",
              "      fill: #1967D2;\n",
              "      height: 32px;\n",
              "      padding: 0 0 0 0;\n",
              "      width: 32px;\n",
              "    }\n",
              "\n",
              "    .colab-df-convert:hover {\n",
              "      background-color: #E2EBFA;\n",
              "      box-shadow: 0px 1px 2px rgba(60, 64, 67, 0.3), 0px 1px 3px 1px rgba(60, 64, 67, 0.15);\n",
              "      fill: #174EA6;\n",
              "    }\n",
              "\n",
              "    [theme=dark] .colab-df-convert {\n",
              "      background-color: #3B4455;\n",
              "      fill: #D2E3FC;\n",
              "    }\n",
              "\n",
              "    [theme=dark] .colab-df-convert:hover {\n",
              "      background-color: #434B5C;\n",
              "      box-shadow: 0px 1px 3px 1px rgba(0, 0, 0, 0.15);\n",
              "      filter: drop-shadow(0px 1px 2px rgba(0, 0, 0, 0.3));\n",
              "      fill: #FFFFFF;\n",
              "    }\n",
              "  </style>\n",
              "\n",
              "      <script>\n",
              "        const buttonEl =\n",
              "          document.querySelector('#df-16f320d0-062d-447a-9e57-d1d74bb715e1 button.colab-df-convert');\n",
              "        buttonEl.style.display =\n",
              "          google.colab.kernel.accessAllowed ? 'block' : 'none';\n",
              "\n",
              "        async function convertToInteractive(key) {\n",
              "          const element = document.querySelector('#df-16f320d0-062d-447a-9e57-d1d74bb715e1');\n",
              "          const dataTable =\n",
              "            await google.colab.kernel.invokeFunction('convertToInteractive',\n",
              "                                                     [key], {});\n",
              "          if (!dataTable) return;\n",
              "\n",
              "          const docLinkHtml = 'Like what you see? Visit the ' +\n",
              "            '<a target=\"_blank\" href=https://colab.research.google.com/notebooks/data_table.ipynb>data table notebook</a>'\n",
              "            + ' to learn more about interactive tables.';\n",
              "          element.innerHTML = '';\n",
              "          dataTable['output_type'] = 'display_data';\n",
              "          await google.colab.output.renderOutput(dataTable, element);\n",
              "          const docLink = document.createElement('div');\n",
              "          docLink.innerHTML = docLinkHtml;\n",
              "          element.appendChild(docLink);\n",
              "        }\n",
              "      </script>\n",
              "    </div>\n",
              "  </div>\n",
              "  "
            ],
            "text/plain": [
              "       Pregnancies     Glucose  ...         Age     Outcome\n",
              "count   768.000000  768.000000  ...  768.000000  768.000000\n",
              "mean      3.845052  120.894531  ...   33.240885    0.348958\n",
              "std       3.369578   31.972618  ...   11.760232    0.476951\n",
              "min       0.000000    0.000000  ...   21.000000    0.000000\n",
              "25%       1.000000   99.000000  ...   24.000000    0.000000\n",
              "50%       3.000000  117.000000  ...   29.000000    0.000000\n",
              "75%       6.000000  140.250000  ...   41.000000    1.000000\n",
              "max      17.000000  199.000000  ...   81.000000    1.000000\n",
              "\n",
              "[8 rows x 9 columns]"
            ]
          },
          "metadata": {},
          "execution_count": 32
        }
      ]
    },
    {
      "cell_type": "code",
      "source": [
        "X21=df1[['Glucose','Insulin']].values\n",
        "Y21=df1['Outcome'].values"
      ],
      "metadata": {
        "id": "BoWgvyiM3iQG"
      },
      "execution_count": 49,
      "outputs": []
    },
    {
      "cell_type": "code",
      "source": [
        "from sklearn.model_selection import train_test_split\n",
        "X_t3,X_t3test,Y_t3,Y_t3test=train_test_split(X21,Y21, test_size = 0.30,random_state=4)"
      ],
      "metadata": {
        "id": "epwUpH323-q5"
      },
      "execution_count": 50,
      "outputs": []
    },
    {
      "cell_type": "code",
      "source": [
        "from sklearn.linear_model import LogisticRegression\n",
        "modelm3=LogisticRegression()\n",
        "modelm3.fit(X_t3,Y_t3)\n",
        "print(modelm3.intercept_)\n",
        "print(modelm3.coef_)"
      ],
      "metadata": {
        "colab": {
          "base_uri": "https://localhost:8080/"
        },
        "id": "WsLAVGhx4E7D",
        "outputId": "a660c1c7-b379-478c-9c59-237e575d1e10"
      },
      "execution_count": 52,
      "outputs": [
        {
          "output_type": "stream",
          "name": "stdout",
          "text": [
            "-2651001.8909950005\n",
            "[2.17006775e+01 1.65719843e+05 1.20961799e+05 2.05856589e+03\n",
            " 1.52334552e+01]\n"
          ]
        }
      ]
    },
    {
      "cell_type": "code",
      "source": [
        "Ypl=modelm3.predict(X_t3test)\n",
        "print(Ypl)"
      ],
      "metadata": {
        "colab": {
          "base_uri": "https://localhost:8080/"
        },
        "id": "vf2D_U4B-4q4",
        "outputId": "da15bbcc-b971-473b-ead8-6fdfe93dfe49"
      },
      "execution_count": 17,
      "outputs": [
        {
          "output_type": "stream",
          "name": "stdout",
          "text": [
            "[0 1 0 1 0 0 0 0 1 0 0 1 1 1 1 0 0 0 0 0 1 0 1 1 1 1 0 0 1 1 1 0 1 0 0 0 1\n",
            " 0 0 0 0 0 0 1 1 0 0 0 0 1 0 0 0 0 0 0 1 0 0 0 0 1 1 0 0 1 1 0 0 0 1 1 0 0\n",
            " 0 1 0 0 1 1 0 0 0 0 1 1 0 1 0 0 0 1 0 0 0 1 0 0 0 1 0 1 0 0 1 0 1 0 0 1 0\n",
            " 0 1 0 0 0 0 0 1 1 1 1 1 0 0 1 0 0 1 0 1 0 0 0 0 0 1 1 0 0 1 1 0 0 0 1 1 1\n",
            " 0 1 0 0 1 1 0 1 0 0 1 0 0 0 1 0 0 1 0 1 1 0 0 1 0 0 0 0 0 0 0 0 0 0 1 1 0\n",
            " 1 1 1 1 1 0 0 0 0 0 0 0 0 0 0 0 0 0 1 1]\n"
          ]
        }
      ]
    },
    {
      "cell_type": "code",
      "source": [
        "d=pd.DataFrame({'Actual':Y_t3test,'Predicted':Ypl})\n",
        "print(d)"
      ],
      "metadata": {
        "colab": {
          "base_uri": "https://localhost:8080/"
        },
        "id": "SXNByE83_PKm",
        "outputId": "2cfa0e47-d7df-4b9c-d696-8fc414d511d4"
      },
      "execution_count": 55,
      "outputs": [
        {
          "output_type": "stream",
          "name": "stdout",
          "text": [
            "     Actual  Predicted\n",
            "0         0          0\n",
            "1         0          0\n",
            "2         0          0\n",
            "3         0          0\n",
            "4         1          0\n",
            "..      ...        ...\n",
            "226       1          1\n",
            "227       1          0\n",
            "228       1          0\n",
            "229       0          0\n",
            "230       0          0\n",
            "\n",
            "[231 rows x 2 columns]\n"
          ]
        }
      ]
    },
    {
      "cell_type": "code",
      "source": [
        "from sklearn import metrics\n",
        "print('MAE:',metrics.mean_absolute_error(Y_t3test,Ypl))\n",
        "print('MSE:',metrics.mean_squared_error(Y_t3test,Ypl))\n",
        "print(\"RMSE:\",np.sqrt(metrics.mean_squared_error(Y_t3test,Ypl)))"
      ],
      "metadata": {
        "colab": {
          "base_uri": "https://localhost:8080/"
        },
        "id": "yvaQyN95_VhF",
        "outputId": "07cc0733-a30d-4cfa-ce9e-00ef2bc4fb34"
      },
      "execution_count": 56,
      "outputs": [
        {
          "output_type": "stream",
          "name": "stdout",
          "text": [
            "MAE: 0.2077922077922078\n",
            "MSE: 0.2077922077922078\n",
            "RMSE: 0.4558423058385518\n"
          ]
        }
      ]
    },
    {
      "cell_type": "code",
      "source": [
        "score=modelm3.score(X_t3test,Y_t3test)\n",
        "print(score)\n",
        "print(score*100)"
      ],
      "metadata": {
        "colab": {
          "base_uri": "https://localhost:8080/"
        },
        "id": "qng3UXaq_iOH",
        "outputId": "dfdf37c8-488d-4688-aabd-34394feaf963"
      },
      "execution_count": 57,
      "outputs": [
        {
          "output_type": "stream",
          "name": "stdout",
          "text": [
            "0.9209976961306244\n",
            "92.09976961306245\n"
          ]
        }
      ]
    },
    {
      "cell_type": "code",
      "source": [
        "print(modelm3.predict([[45,56]]))"
      ],
      "metadata": {
        "colab": {
          "base_uri": "https://localhost:8080/"
        },
        "id": "xWphzo1E_rRC",
        "outputId": "3c409e71-2433-4e75-814c-a4bd411538b6"
      },
      "execution_count": 59,
      "outputs": [
        {
          "output_type": "stream",
          "name": "stdout",
          "text": [
            "[0]\n"
          ]
        }
      ]
    },
    {
      "cell_type": "markdown",
      "source": [
        "Breast Cancer"
      ],
      "metadata": {
        "id": "f0JNaDQPZs1e"
      }
    },
    {
      "cell_type": "code",
      "source": [
        "df21=pd.read_csv('https://raw.githubusercontent.com/nethajinirmal13/Training-datasets/main/breast-cancer.csv')\n",
        "df21.head()\n",
        "df21.info()\n",
        "df21.describe()"
      ],
      "metadata": {
        "colab": {
          "base_uri": "https://localhost:8080/",
          "height": 691
        },
        "id": "ZLPAd6skZq-X",
        "outputId": "aea63d53-8f5c-4b08-9275-6a1d70cf1ebc"
      },
      "execution_count": 9,
      "outputs": [
        {
          "output_type": "stream",
          "name": "stdout",
          "text": [
            "<class 'pandas.core.frame.DataFrame'>\n",
            "RangeIndex: 683 entries, 0 to 682\n",
            "Data columns (total 11 columns):\n",
            " #   Column                       Non-Null Count  Dtype\n",
            "---  ------                       --------------  -----\n",
            " 0   ID                           683 non-null    int64\n",
            " 1   Clump Thickness              683 non-null    int64\n",
            " 2   Uniformity of Cell Size      683 non-null    int64\n",
            " 3   Uniformity of Cell Shape     683 non-null    int64\n",
            " 4   Marginal Adhesion            683 non-null    int64\n",
            " 5   Single Epithelial Cell Size  683 non-null    int64\n",
            " 6   Bare Nuclei                  683 non-null    int64\n",
            " 7   Bland Chromatin              683 non-null    int64\n",
            " 8   Normal Nucleoli              683 non-null    int64\n",
            " 9   Mitoses                      683 non-null    int64\n",
            " 10  Class                        683 non-null    int64\n",
            "dtypes: int64(11)\n",
            "memory usage: 58.8 KB\n"
          ]
        },
        {
          "output_type": "execute_result",
          "data": {
            "text/html": [
              "\n",
              "  <div id=\"df-84885ca1-c472-47ff-a57f-701478d24de8\">\n",
              "    <div class=\"colab-df-container\">\n",
              "      <div>\n",
              "<style scoped>\n",
              "    .dataframe tbody tr th:only-of-type {\n",
              "        vertical-align: middle;\n",
              "    }\n",
              "\n",
              "    .dataframe tbody tr th {\n",
              "        vertical-align: top;\n",
              "    }\n",
              "\n",
              "    .dataframe thead th {\n",
              "        text-align: right;\n",
              "    }\n",
              "</style>\n",
              "<table border=\"1\" class=\"dataframe\">\n",
              "  <thead>\n",
              "    <tr style=\"text-align: right;\">\n",
              "      <th></th>\n",
              "      <th>ID</th>\n",
              "      <th>Clump Thickness</th>\n",
              "      <th>Uniformity of Cell Size</th>\n",
              "      <th>Uniformity of Cell Shape</th>\n",
              "      <th>Marginal Adhesion</th>\n",
              "      <th>Single Epithelial Cell Size</th>\n",
              "      <th>Bare Nuclei</th>\n",
              "      <th>Bland Chromatin</th>\n",
              "      <th>Normal Nucleoli</th>\n",
              "      <th>Mitoses</th>\n",
              "      <th>Class</th>\n",
              "    </tr>\n",
              "  </thead>\n",
              "  <tbody>\n",
              "    <tr>\n",
              "      <th>count</th>\n",
              "      <td>6.830000e+02</td>\n",
              "      <td>683.000000</td>\n",
              "      <td>683.000000</td>\n",
              "      <td>683.000000</td>\n",
              "      <td>683.000000</td>\n",
              "      <td>683.000000</td>\n",
              "      <td>683.000000</td>\n",
              "      <td>683.000000</td>\n",
              "      <td>683.000000</td>\n",
              "      <td>683.000000</td>\n",
              "      <td>683.000000</td>\n",
              "    </tr>\n",
              "    <tr>\n",
              "      <th>mean</th>\n",
              "      <td>1.076720e+06</td>\n",
              "      <td>4.442167</td>\n",
              "      <td>3.150805</td>\n",
              "      <td>3.215227</td>\n",
              "      <td>2.830161</td>\n",
              "      <td>3.234261</td>\n",
              "      <td>3.544656</td>\n",
              "      <td>3.445095</td>\n",
              "      <td>2.869693</td>\n",
              "      <td>1.603221</td>\n",
              "      <td>0.349927</td>\n",
              "    </tr>\n",
              "    <tr>\n",
              "      <th>std</th>\n",
              "      <td>6.206440e+05</td>\n",
              "      <td>2.820761</td>\n",
              "      <td>3.065145</td>\n",
              "      <td>2.988581</td>\n",
              "      <td>2.864562</td>\n",
              "      <td>2.223085</td>\n",
              "      <td>3.643857</td>\n",
              "      <td>2.449697</td>\n",
              "      <td>3.052666</td>\n",
              "      <td>1.732674</td>\n",
              "      <td>0.477296</td>\n",
              "    </tr>\n",
              "    <tr>\n",
              "      <th>min</th>\n",
              "      <td>6.337500e+04</td>\n",
              "      <td>1.000000</td>\n",
              "      <td>1.000000</td>\n",
              "      <td>1.000000</td>\n",
              "      <td>1.000000</td>\n",
              "      <td>1.000000</td>\n",
              "      <td>1.000000</td>\n",
              "      <td>1.000000</td>\n",
              "      <td>1.000000</td>\n",
              "      <td>1.000000</td>\n",
              "      <td>0.000000</td>\n",
              "    </tr>\n",
              "    <tr>\n",
              "      <th>25%</th>\n",
              "      <td>8.776170e+05</td>\n",
              "      <td>2.000000</td>\n",
              "      <td>1.000000</td>\n",
              "      <td>1.000000</td>\n",
              "      <td>1.000000</td>\n",
              "      <td>2.000000</td>\n",
              "      <td>1.000000</td>\n",
              "      <td>2.000000</td>\n",
              "      <td>1.000000</td>\n",
              "      <td>1.000000</td>\n",
              "      <td>0.000000</td>\n",
              "    </tr>\n",
              "    <tr>\n",
              "      <th>50%</th>\n",
              "      <td>1.171795e+06</td>\n",
              "      <td>4.000000</td>\n",
              "      <td>1.000000</td>\n",
              "      <td>1.000000</td>\n",
              "      <td>1.000000</td>\n",
              "      <td>2.000000</td>\n",
              "      <td>1.000000</td>\n",
              "      <td>3.000000</td>\n",
              "      <td>1.000000</td>\n",
              "      <td>1.000000</td>\n",
              "      <td>0.000000</td>\n",
              "    </tr>\n",
              "    <tr>\n",
              "      <th>75%</th>\n",
              "      <td>1.238705e+06</td>\n",
              "      <td>6.000000</td>\n",
              "      <td>5.000000</td>\n",
              "      <td>5.000000</td>\n",
              "      <td>4.000000</td>\n",
              "      <td>4.000000</td>\n",
              "      <td>6.000000</td>\n",
              "      <td>5.000000</td>\n",
              "      <td>4.000000</td>\n",
              "      <td>1.000000</td>\n",
              "      <td>1.000000</td>\n",
              "    </tr>\n",
              "    <tr>\n",
              "      <th>max</th>\n",
              "      <td>1.345435e+07</td>\n",
              "      <td>10.000000</td>\n",
              "      <td>10.000000</td>\n",
              "      <td>10.000000</td>\n",
              "      <td>10.000000</td>\n",
              "      <td>10.000000</td>\n",
              "      <td>10.000000</td>\n",
              "      <td>10.000000</td>\n",
              "      <td>10.000000</td>\n",
              "      <td>10.000000</td>\n",
              "      <td>1.000000</td>\n",
              "    </tr>\n",
              "  </tbody>\n",
              "</table>\n",
              "</div>\n",
              "      <button class=\"colab-df-convert\" onclick=\"convertToInteractive('df-84885ca1-c472-47ff-a57f-701478d24de8')\"\n",
              "              title=\"Convert this dataframe to an interactive table.\"\n",
              "              style=\"display:none;\">\n",
              "        \n",
              "  <svg xmlns=\"http://www.w3.org/2000/svg\" height=\"24px\"viewBox=\"0 0 24 24\"\n",
              "       width=\"24px\">\n",
              "    <path d=\"M0 0h24v24H0V0z\" fill=\"none\"/>\n",
              "    <path d=\"M18.56 5.44l.94 2.06.94-2.06 2.06-.94-2.06-.94-.94-2.06-.94 2.06-2.06.94zm-11 1L8.5 8.5l.94-2.06 2.06-.94-2.06-.94L8.5 2.5l-.94 2.06-2.06.94zm10 10l.94 2.06.94-2.06 2.06-.94-2.06-.94-.94-2.06-.94 2.06-2.06.94z\"/><path d=\"M17.41 7.96l-1.37-1.37c-.4-.4-.92-.59-1.43-.59-.52 0-1.04.2-1.43.59L10.3 9.45l-7.72 7.72c-.78.78-.78 2.05 0 2.83L4 21.41c.39.39.9.59 1.41.59.51 0 1.02-.2 1.41-.59l7.78-7.78 2.81-2.81c.8-.78.8-2.07 0-2.86zM5.41 20L4 18.59l7.72-7.72 1.47 1.35L5.41 20z\"/>\n",
              "  </svg>\n",
              "      </button>\n",
              "      \n",
              "  <style>\n",
              "    .colab-df-container {\n",
              "      display:flex;\n",
              "      flex-wrap:wrap;\n",
              "      gap: 12px;\n",
              "    }\n",
              "\n",
              "    .colab-df-convert {\n",
              "      background-color: #E8F0FE;\n",
              "      border: none;\n",
              "      border-radius: 50%;\n",
              "      cursor: pointer;\n",
              "      display: none;\n",
              "      fill: #1967D2;\n",
              "      height: 32px;\n",
              "      padding: 0 0 0 0;\n",
              "      width: 32px;\n",
              "    }\n",
              "\n",
              "    .colab-df-convert:hover {\n",
              "      background-color: #E2EBFA;\n",
              "      box-shadow: 0px 1px 2px rgba(60, 64, 67, 0.3), 0px 1px 3px 1px rgba(60, 64, 67, 0.15);\n",
              "      fill: #174EA6;\n",
              "    }\n",
              "\n",
              "    [theme=dark] .colab-df-convert {\n",
              "      background-color: #3B4455;\n",
              "      fill: #D2E3FC;\n",
              "    }\n",
              "\n",
              "    [theme=dark] .colab-df-convert:hover {\n",
              "      background-color: #434B5C;\n",
              "      box-shadow: 0px 1px 3px 1px rgba(0, 0, 0, 0.15);\n",
              "      filter: drop-shadow(0px 1px 2px rgba(0, 0, 0, 0.3));\n",
              "      fill: #FFFFFF;\n",
              "    }\n",
              "  </style>\n",
              "\n",
              "      <script>\n",
              "        const buttonEl =\n",
              "          document.querySelector('#df-84885ca1-c472-47ff-a57f-701478d24de8 button.colab-df-convert');\n",
              "        buttonEl.style.display =\n",
              "          google.colab.kernel.accessAllowed ? 'block' : 'none';\n",
              "\n",
              "        async function convertToInteractive(key) {\n",
              "          const element = document.querySelector('#df-84885ca1-c472-47ff-a57f-701478d24de8');\n",
              "          const dataTable =\n",
              "            await google.colab.kernel.invokeFunction('convertToInteractive',\n",
              "                                                     [key], {});\n",
              "          if (!dataTable) return;\n",
              "\n",
              "          const docLinkHtml = 'Like what you see? Visit the ' +\n",
              "            '<a target=\"_blank\" href=https://colab.research.google.com/notebooks/data_table.ipynb>data table notebook</a>'\n",
              "            + ' to learn more about interactive tables.';\n",
              "          element.innerHTML = '';\n",
              "          dataTable['output_type'] = 'display_data';\n",
              "          await google.colab.output.renderOutput(dataTable, element);\n",
              "          const docLink = document.createElement('div');\n",
              "          docLink.innerHTML = docLinkHtml;\n",
              "          element.appendChild(docLink);\n",
              "        }\n",
              "      </script>\n",
              "    </div>\n",
              "  </div>\n",
              "  "
            ],
            "text/plain": [
              "                 ID  Clump Thickness  ...     Mitoses       Class\n",
              "count  6.830000e+02       683.000000  ...  683.000000  683.000000\n",
              "mean   1.076720e+06         4.442167  ...    1.603221    0.349927\n",
              "std    6.206440e+05         2.820761  ...    1.732674    0.477296\n",
              "min    6.337500e+04         1.000000  ...    1.000000    0.000000\n",
              "25%    8.776170e+05         2.000000  ...    1.000000    0.000000\n",
              "50%    1.171795e+06         4.000000  ...    1.000000    0.000000\n",
              "75%    1.238705e+06         6.000000  ...    1.000000    1.000000\n",
              "max    1.345435e+07        10.000000  ...   10.000000    1.000000\n",
              "\n",
              "[8 rows x 11 columns]"
            ]
          },
          "metadata": {},
          "execution_count": 9
        }
      ]
    },
    {
      "cell_type": "code",
      "source": [
        "X22=df21[['Clump Thickness','Bare Nuclei','Bland Chromatin','Mitoses']].values\n",
        "Y22=df21['Class'].values"
      ],
      "metadata": {
        "id": "_sLGunCFZrVk"
      },
      "execution_count": 11,
      "outputs": []
    },
    {
      "cell_type": "code",
      "source": [
        "from sklearn.model_selection import train_test_split\n",
        "X_t3train,X_t3test,Y_t3train,Y_t3test=train_test_split(X22,Y22, test_size = 0.30,random_state=4)"
      ],
      "metadata": {
        "id": "bdb62lUtZrlo"
      },
      "execution_count": 12,
      "outputs": []
    },
    {
      "cell_type": "code",
      "source": [
        "from sklearn.linear_model import LogisticRegression\n",
        "modelm3=LogisticRegression()\n",
        "modelm3.fit(X_t3train,Y_t3train)\n",
        "print(modelm3.intercept_)\n",
        "print(modelm3.coef_)"
      ],
      "metadata": {
        "colab": {
          "base_uri": "https://localhost:8080/"
        },
        "id": "vlggyuY1Zrz0",
        "outputId": "d34555bb-6025-4ed2-d016-e56acf4b282e"
      },
      "execution_count": 14,
      "outputs": [
        {
          "output_type": "stream",
          "name": "stdout",
          "text": [
            "[-9.75525999]\n",
            "[[0.74778461 0.53852865 0.82264804 0.50726798]]\n"
          ]
        }
      ]
    },
    {
      "cell_type": "code",
      "source": [
        "Ypl=modelm3.predict(X_t3test)\n",
        "print(Ypl)"
      ],
      "metadata": {
        "colab": {
          "base_uri": "https://localhost:8080/"
        },
        "id": "X0rQKNzpbUG3",
        "outputId": "c1d9efb4-685d-4bd0-c208-3a99da5c580a"
      },
      "execution_count": 16,
      "outputs": [
        {
          "output_type": "stream",
          "name": "stdout",
          "text": [
            "[0 1 0 1 0 0 0 0 1 0 0 1 1 1 1 0 0 0 0 0 1 0 1 1 1 1 0 0 1 1 1 0 1 0 0 0 1\n",
            " 0 0 0 0 0 0 1 1 0 0 0 0 1 0 0 0 0 0 0 1 0 0 0 0 1 1 0 0 1 1 0 0 0 1 1 0 0\n",
            " 0 1 0 0 1 1 0 0 0 0 1 1 0 1 0 0 0 1 0 0 0 1 0 0 0 1 0 1 0 0 1 0 1 0 0 1 0\n",
            " 0 1 0 0 0 0 0 1 1 1 1 1 0 0 1 0 0 1 0 1 0 0 0 0 0 1 1 0 0 1 1 0 0 0 1 1 1\n",
            " 0 1 0 0 1 1 0 1 0 0 1 0 0 0 1 0 0 1 0 1 1 0 0 1 0 0 0 0 0 0 0 0 0 0 1 1 0\n",
            " 1 1 1 1 1 0 0 0 0 0 0 0 0 0 0 0 0 0 1 1]\n"
          ]
        }
      ]
    },
    {
      "cell_type": "code",
      "source": [
        "d=pd.DataFrame({'Actual':Y_t3test,'Predicted':Ypl})\n",
        "print(d)"
      ],
      "metadata": {
        "colab": {
          "base_uri": "https://localhost:8080/"
        },
        "id": "U72ED5mCbUZu",
        "outputId": "bcf2db5d-d5be-4254-a672-e95eb61772b3"
      },
      "execution_count": 18,
      "outputs": [
        {
          "output_type": "stream",
          "name": "stdout",
          "text": [
            "     Actual  Predicted\n",
            "0         0          0\n",
            "1         1          1\n",
            "2         0          0\n",
            "3         1          1\n",
            "4         0          0\n",
            "..      ...        ...\n",
            "200       0          0\n",
            "201       0          0\n",
            "202       0          0\n",
            "203       1          1\n",
            "204       1          1\n",
            "\n",
            "[205 rows x 2 columns]\n"
          ]
        }
      ]
    },
    {
      "cell_type": "code",
      "source": [
        "from sklearn import metrics\n",
        "import numpy as np\n",
        "print('MAE:',metrics.mean_absolute_error(Y_t3test,Ypl))\n",
        "print('MSE:',metrics.mean_squared_error(Y_t3test,Ypl))\n",
        "print(\"RMSE:\",np.sqrt(metrics.mean_squared_error(Y_t3test,Ypl)))"
      ],
      "metadata": {
        "colab": {
          "base_uri": "https://localhost:8080/"
        },
        "id": "n9cHdtOccP6z",
        "outputId": "951f28d8-9e2d-4415-d63c-a56f62b14a82"
      },
      "execution_count": 20,
      "outputs": [
        {
          "output_type": "stream",
          "name": "stdout",
          "text": [
            "MAE: 0.03902439024390244\n",
            "MSE: 0.03902439024390244\n",
            "RMSE: 0.1975459193299179\n"
          ]
        }
      ]
    },
    {
      "cell_type": "code",
      "source": [
        "score=modelm3.score(X_t3test,Y_t3test)\n",
        "print(score)\n",
        "print(score*100)"
      ],
      "metadata": {
        "colab": {
          "base_uri": "https://localhost:8080/"
        },
        "id": "-5vUpDT-cYA9",
        "outputId": "4aa6acb3-410c-495b-e61d-1b1d850df010"
      },
      "execution_count": 22,
      "outputs": [
        {
          "output_type": "stream",
          "name": "stdout",
          "text": [
            "0.9609756097560975\n",
            "96.09756097560975\n"
          ]
        }
      ]
    },
    {
      "cell_type": "code",
      "source": [
        "print(modelm3.predict([[4,5,5,6]]))"
      ],
      "metadata": {
        "colab": {
          "base_uri": "https://localhost:8080/"
        },
        "id": "94nRWIesc1y0",
        "outputId": "c1ae98f8-9719-4957-94a0-4134d331738f"
      },
      "execution_count": 23,
      "outputs": [
        {
          "output_type": "stream",
          "name": "stdout",
          "text": [
            "[1]\n"
          ]
        }
      ]
    },
    {
      "cell_type": "markdown",
      "source": [
        "Polynomial\n"
      ],
      "metadata": {
        "id": "qN0zGmsLBQSf"
      }
    },
    {
      "cell_type": "code",
      "source": [
        "#SAT,GPA\n",
        "from sklearn.preprocessing import PolynomialFeatures\n",
        "poly_reg = PolynomialFeatures(degree=4)\n",
        "X_poly = poly_reg.fit_transform(X)\n",
        "pol_reg = LinearRegression()\n",
        "pol_reg.fit(X_poly, Y)\n",
        "print(pol_reg.intercept_)\n",
        "print(pol_reg.coef_)"
      ],
      "metadata": {
        "colab": {
          "base_uri": "https://localhost:8080/"
        },
        "id": "XGM6TCzRBSsF",
        "outputId": "82ff1d96-ddfa-41ee-c53c-34fe5cc9f124"
      },
      "execution_count": 63,
      "outputs": [
        {
          "output_type": "stream",
          "name": "stdout",
          "text": [
            "20.29760650294548\n",
            "[ 0.00000000e+00 -4.96123777e+00  3.43318424e+00 -2.55342839e-01\n",
            "  3.06895644e-03]\n"
          ]
        }
      ]
    },
    {
      "cell_type": "code",
      "source": [
        "def polymonial():\n",
        "\tplt.scatter(X, Y, color='red')\n",
        "\tplt.plot(X, pol_reg.predict(poly_reg.fit_transform(X)), color='blue')\n",
        "\tplt.title('Truth or Bluff (Linear Regression)')\n",
        "\tplt.xlabel('GPA')\n",
        "\tplt.ylabel('SAT')\n",
        "\tplt.show()\n",
        "\treturn\n",
        "polymonial()\n"
      ],
      "metadata": {
        "colab": {
          "base_uri": "https://localhost:8080/",
          "height": 295
        },
        "id": "gdgm3V39B5mb",
        "outputId": "9e78f738-ff5c-4de4-c3d9-041468dc2502"
      },
      "execution_count": 64,
      "outputs": [
        {
          "output_type": "display_data",
          "data": {
            "image/png": "[encoded data removed]",
            "text/plain": [
              "<Figure size 432x288 with 1 Axes>"
            ]
          },
          "metadata": {
            "needs_background": "light"
          }
        }
      ]
    },
    {
      "cell_type": "code",
      "source": [
        ""
      ],
      "metadata": {
        "id": "NPKr8iWHR5c9"
      },
      "execution_count": null,
      "outputs": []
    },
    {
      "cell_type": "markdown",
      "source": [
        "Naive Bayes"
      ],
      "metadata": {
        "id": "IMhas4h2R6af"
      }
    },
    {
      "cell_type": "code",
      "source": [
        "weather=['Sunny','Sunny','Overcast','Rainy','Rainy','Rainy','Overcast','Sunny','Sunny',\n",
        "'Rainy','Sunny','Overcast','Overcast','Rainy']\n",
        " \n",
        "temp=['Hot','Hot','Hot','Mild','Cool','Cool','Cool','Mild','Cool','Mild','Mild','Mild','Hot','Mild']\n",
        " \n",
        "play=['No','No','Yes','Yes','Yes','No','Yes','No','Yes','Yes','Yes','Yes','Yes','No']\n",
        " \n",
        " \n",
        "#Import LabelEncoder\n",
        "from sklearn import preprocessing\n",
        "import pandas as pd\n",
        "#creating labelEncoder\n",
        "le = preprocessing.LabelEncoder()\n",
        "# Converting string labels into numbers.\n",
        " \n",
        "wheather_encoded=le.fit_transform(weather)\n",
        "print (wheather_encoded)\n",
        " \n",
        "# Converting string labels into numbers\n",
        "temp_encoded=le.fit_transform(temp)\n",
        "label=le.fit_transform(play)\n",
        "print (\"Temp:\",temp_encoded)\n",
        "print (\"Play:\",label)\n",
        " \n",
        " \n",
        "#Combinig weather and temp into single listof tuples\n",
        "#features=zip(wheather_encoded,temp_encoded)\n",
        "\n",
        "df2=pd.DataFrame({'weather':wheather_encoded,'temp':temp_encoded})\n",
        "features=df2[['weather','temp']].values\n",
        "print (features)\n",
        " \n",
        " \n",
        "#Import Gaussian Naive Bayes model\n",
        "from sklearn.naive_bayes import GaussianNB\n",
        " \n",
        "#Create a Gaussian Classifier\n",
        "model = GaussianNB()\n",
        " \n",
        "# Train the model using the training sets\n",
        "model.fit(features,label)\n",
        "#Predict Output\n",
        "predicted= model.predict([[2,1]]) # 0:Overcast, 2:Mild\n",
        "print (\"Predicted Value:\", predicted)\n",
        " \n",
        " \n"
      ],
      "metadata": {
        "colab": {
          "base_uri": "https://localhost:8080/"
        },
        "id": "8wW4Y3QiR-vJ",
        "outputId": "2b40b557-7cff-4655-ccfe-92d652767195"
      },
      "execution_count": 6,
      "outputs": [
        {
          "output_type": "stream",
          "name": "stdout",
          "text": [
            "[2 2 0 1 1 1 0 2 2 1 2 0 0 1]\n",
            "Temp: [1 1 1 2 0 0 0 2 0 2 2 2 1 2]\n",
            "Play: [0 0 1 1 1 0 1 0 1 1 1 1 1 0]\n",
            "[[2 1]\n",
            " [2 1]\n",
            " [0 1]\n",
            " [1 2]\n",
            " [1 0]\n",
            " [1 0]\n",
            " [0 0]\n",
            " [2 2]\n",
            " [2 0]\n",
            " [1 2]\n",
            " [2 2]\n",
            " [0 2]\n",
            " [0 1]\n",
            " [1 2]]\n",
            "Predicted Value: [0]\n"
          ]
        }
      ]
    }
  ]
}