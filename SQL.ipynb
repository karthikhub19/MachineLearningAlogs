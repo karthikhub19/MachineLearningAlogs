{
  "nbformat": 4,
  "nbformat_minor": 0,
  "metadata": {
    "colab": {
      "name": "SQL.ipynb",
      "provenance": [],
      "collapsed_sections": [],
      "include_colab_link": true
    },
    "kernelspec": {
      "name": "python3",
      "display_name": "Python 3"
    },
    "language_info": {
      "name": "python"
    }
  },
  "cells": [
    {
      "cell_type": "markdown",
      "metadata": {
        "id": "view-in-github",
        "colab_type": "text"
      },
      "source": [
        "<a href=\"https://colab.research.google.com/github/karthikhub19/MachineLearningAlogs/blob/main/SQL.ipynb\" target=\"_parent\"><img src=\"https://colab.research.google.com/assets/colab-badge.svg\" alt=\"Open In Colab\"/></a>"
      ]
    },
    {
      "cell_type": "code",
      "source": [
        "!pip install mysql-connector-python"
      ],
      "metadata": {
        "id": "kHZryj0q-hD6"
      },
      "execution_count": null,
      "outputs": []
    },
    {
      "cell_type": "code",
      "execution_count": null,
      "metadata": {
        "colab": {
          "base_uri": "https://localhost:8080/"
        },
        "id": "3JHqfqM4DcR1",
        "outputId": "86c054fd-d047-4873-8005-e300feba6d20"
      },
      "outputs": [
        {
          "output_type": "stream",
          "name": "stdout",
          "text": [
            "<mysql.connector.connection.MySQLConnection object at 0x7f7ec316a970>\n"
          ]
        }
      ],
      "source": [
        "import mysql.connector\n",
        "import mysql.connector\n",
        "\n",
        "mydb = mysql.connector.connect(\n",
        "  host=\"localhost\",\n",
        "  user=\"root\",\n",
        "  password=\"\",\n",
        "  #database='joins'\n",
        "  \n",
        ")\n",
        "\n",
        "print(mydb)\n",
        "mycursor = mydb.cursor(buffered=True)\n",
        "\n",
        "#mycursor.execute(\"CREATE DATABASE guvi12\") \n",
        "#create new db CREATE DATABASE mydatabase\n",
        "#it willautomatically check if dbwith same name exists"
      ]
    },
    {
      "cell_type": "code",
      "source": [
        "mycursor.execute(\"SHOW DATABASES\")\n",
        "\n",
        "for x in mycursor:\n",
        "  print(x)\n",
        "\n",
        "#Show all existing db"
      ],
      "metadata": {
        "colab": {
          "base_uri": "https://localhost:8080/"
        },
        "id": "7-RW2pbLNbsH",
        "outputId": "7e9e77df-29ab-4e54-bab9-df5569eb1a3a"
      },
      "execution_count": null,
      "outputs": [
        {
          "output_type": "stream",
          "name": "stdout",
          "text": [
            "('guvi1',)\n",
            "('guvi12',)\n",
            "('information_schema',)\n",
            "('mysql',)\n",
            "('newguvi',)\n",
            "('performance_schema',)\n",
            "('phpmyadmin',)\n",
            "('test',)\n"
          ]
        }
      ]
    },
    {
      "cell_type": "code",
      "source": [
        "mycursor.execute(\"USE date1\")\n",
        "\n",
        "#change to another db if required"
      ],
      "metadata": {
        "id": "XRl8zWR5OW9O"
      },
      "execution_count": null,
      "outputs": []
    },
    {
      "cell_type": "code",
      "source": [
        "#renaming the databse direct is not permitted since a lot of users arein the scene\n",
        "mycursor.execute(\"CREATE DATABASE newguvi\")\n",
        "\n",
        "mycursor.execute(\"RENAME TABLE guvi1.customers TO newguvi.customers\")\n",
        "\n",
        "#so create a new db and rename the old tables(it will get transferred)"
      ],
      "metadata": {
        "id": "8qIkcMxQPBM-"
      },
      "execution_count": null,
      "outputs": []
    },
    {
      "cell_type": "code",
      "source": [
        "mycursor.execute(\"DROP DATABASE guvi\")\n",
        "#delete any database"
      ],
      "metadata": {
        "id": "5ZlWd5pyOmbS"
      },
      "execution_count": null,
      "outputs": []
    },
    {
      "cell_type": "code",
      "source": [
        "mycursor.execute(\"CREATE TABLE yourtable1 (x INT(8) ZEROFILL)\")\n",
        "#usage of zerofill\n",
        "#if input of 22 is given output will be 00000022"
      ],
      "metadata": {
        "id": "b0_5d_OcT3_C"
      },
      "execution_count": null,
      "outputs": []
    },
    {
      "cell_type": "code",
      "source": [
        "mycursor.execute(\"CREATE TABLE lucky (salary INT(6),weight DECIMAL(3,3),insurance BOOLEAN)\")\n",
        "\n",
        "#decimal first value is total number of digits(including pre and post decimal digits) and swecond value is for after point \n",
        "#second value cannot be greater than first value"
      ],
      "metadata": {
        "id": "0k9V0TBdZcix"
      },
      "execution_count": null,
      "outputs": []
    },
    {
      "cell_type": "code",
      "source": [
        "#Alter table\n",
        "#add a new column at first\n",
        "mycursor.execute(\"ALTER TABLE lucky ADD covid VARCHAR(5) FIRST\")\n"
      ],
      "metadata": {
        "id": "ciAsvOI2x-RB"
      },
      "execution_count": null,
      "outputs": []
    },
    {
      "cell_type": "code",
      "source": [
        "#alter table\n",
        "#add new column after some column name\n",
        "mycursor.execute(\"ALTER TABLE lucky ADD covid_status VARCHAR(5) AFTER covid\")\n",
        "mydb.commit()\n"
      ],
      "metadata": {
        "id": "Kcm2agyWyqii"
      },
      "execution_count": null,
      "outputs": []
    },
    {
      "cell_type": "code",
      "source": [
        "#DROP column example\n",
        "#The ROLLBACK command is the transactional command used to undo transactions that have not already been saved to the database.\n",
        "mycursor.execute(\"ALTER TABLE lucky DROP COLUMN covid_status  \")\n",
        "mydb.rollback()"
      ],
      "metadata": {
        "id": "e34vGoCuzBtm"
      },
      "execution_count": null,
      "outputs": []
    },
    {
      "cell_type": "code",
      "source": [
        "#MODIFY(tochange the definition of th column)\n",
        "mycursor.execute(\"ALTER TABLE lucky MODIFY covid INT \")"
      ],
      "metadata": {
        "id": "kjSfroAB0SUI"
      },
      "execution_count": null,
      "outputs": []
    },
    {
      "cell_type": "code",
      "source": [
        "#rename column\n",
        "mycursor.execute(\"ALTER TABLE lucky CHANGE COLUMN covid covidnew INT\")"
      ],
      "metadata": {
        "id": "eurBNP4a0unX"
      },
      "execution_count": null,
      "outputs": []
    },
    {
      "cell_type": "code",
      "source": [
        "#show tables\n",
        "mycursor.execute(\"SHOW TABLES FROM guvi12\")\n",
        "\n",
        "\n",
        "for x in mycursor:\n",
        "  print(x)\n"
      ],
      "metadata": {
        "colab": {
          "base_uri": "https://localhost:8080/"
        },
        "id": "86Pa9wm-1i2T",
        "outputId": "d8de0b59-2724-4052-c41d-eaa8929be675"
      },
      "execution_count": null,
      "outputs": [
        {
          "output_type": "stream",
          "name": "stdout",
          "text": [
            "('forex',)\n",
            "('lucky',)\n",
            "('test2',)\n",
            "('test_1',)\n"
          ]
        }
      ]
    },
    {
      "cell_type": "code",
      "source": [
        "#show tables\n",
        "mycursor.execute(\"SHOW TABLES IN guvi12\")\n",
        "\n",
        "\n",
        "for x in mycursor:\n",
        "  print(x)"
      ],
      "metadata": {
        "colab": {
          "base_uri": "https://localhost:8080/"
        },
        "id": "0h7BPh8m12xV",
        "outputId": "e95dec22-f8e9-46db-a088-d3d7967ef54e"
      },
      "execution_count": null,
      "outputs": [
        {
          "output_type": "stream",
          "name": "stdout",
          "text": [
            "('forex',)\n",
            "('lucky',)\n",
            "('test2',)\n",
            "('test_1',)\n"
          ]
        }
      ]
    },
    {
      "cell_type": "code",
      "source": [
        "#show tables by using where\n",
        "mycursor.execute(\"SHOW TABLES IN guvi12 WHERE Tables_in_guvi12= 'forex' \")\n",
        "for x in mycursor:\n",
        "  print(x)"
      ],
      "metadata": {
        "colab": {
          "base_uri": "https://localhost:8080/"
        },
        "id": "vJT4eLTk2Jnu",
        "outputId": "f61108d1-b3db-4507-c619-d10e00c0af33"
      },
      "execution_count": null,
      "outputs": [
        {
          "output_type": "stream",
          "name": "stdout",
          "text": [
            "('forex',)\n"
          ]
        }
      ]
    },
    {
      "cell_type": "code",
      "source": [
        "#truncate(delete all elements without deleting the table structure)\n",
        "mycursor.execute(\"TRUNCATE test2\")\n",
        "mydb.commit"
      ],
      "metadata": {
        "colab": {
          "base_uri": "https://localhost:8080/"
        },
        "id": "nRESK_pZ3Jl3",
        "outputId": "d0839f14-4370-42e4-8612-9255e2d7743b"
      },
      "execution_count": null,
      "outputs": [
        {
          "output_type": "execute_result",
          "data": {
            "text/plain": [
              "<bound method MySQLConnection.commit of <mysql.connector.connection.MySQLConnection object at 0x7f027df94f10>>"
            ]
          },
          "metadata": {},
          "execution_count": 56
        }
      ]
    },
    {
      "cell_type": "code",
      "source": [
        "mycursor.execute(\"CREATE TABLE date (datein DATE)\")\n",
        "#mycursor.execute(\"INSERT INTO date (datein) VALUES ( CURDATE())\")"
      ],
      "metadata": {
        "id": "5iTwoAwogDIe"
      },
      "execution_count": null,
      "outputs": []
    },
    {
      "cell_type": "code",
      "source": [
        "mycursor.execute(\"INSERT INTO date (datein) VALUES ( CURDATE())\")\n",
        "mycursor.execute(\"INSERT INTO date (datein) VALUES ( CURRENT_DATE())\")\n",
        "mycursor.execute(\"INSERT INTO date (datein) VALUES (CURTIME())\")\n",
        "mycursor.execute(\"INSERT INTO date (datein) VALUES (CURRENT_TIMESTAMP())\")\n",
        "mycursor.execute(\"INSERT INTO date (datein) VALUES (CURRENT_TIME())\")\n",
        "mycursor.execute(\"INSERT INTO date (datein) VALUES (NOW())\")\n",
        "mydb.commit()\n",
        "\n",
        "#whatever date format given into DATE datatypw will consider in the sameway"
      ],
      "metadata": {
        "id": "PyYW8POwge0J"
      },
      "execution_count": null,
      "outputs": []
    },
    {
      "cell_type": "code",
      "source": [
        "mycursor.execute(\"CREATE TABLE datestrin (datein VARCHAR(255))\")"
      ],
      "metadata": {
        "id": "GFDvg1STvCpi"
      },
      "execution_count": null,
      "outputs": []
    },
    {
      "cell_type": "code",
      "source": [
        "mycursor.execute(\"INSERT INTO datestrin (datein) VALUES ( CURDATE())\")\n",
        "mycursor.execute(\"INSERT INTO datestrin (datein) VALUES ( CURRENT_DATE())\")\n",
        "mycursor.execute(\"INSERT INTO datestrin (datein) VALUES (CURTIME())\")\n",
        "mycursor.execute(\"INSERT INTO datestrin (datein) VALUES (CURRENT_TIMESTAMP())\")\n",
        "mycursor.execute(\"INSERT INTO datestrin (datein) VALUES (CURRENT_TIME())\")\n",
        "mycursor.execute(\"INSERT INTO datestrin (datein) VALUES (NOW())\")#date and time\n",
        "mycursor.execute(\"INSERT INTO datestrin (datein) VALUES (MONTHNAME(NOW()))\")\n",
        "mycursor.execute(\"INSERT INTO datestrin (datein) VALUES (DAYNAME(NOW()))\")\n",
        "mycursor.execute(\"INSERT INTO datestrin (datein) VALUES (HOUR(NOW()))\")\n",
        "mycursor.execute(\"INSERT INTO datestrin (datein) VALUES (MINUTE(NOW()))\")\n",
        "mycursor.execute(\"INSERT INTO datestrin (datein) VALUES (DATE_ADD(NOW(),INTERVAL -10 DAY))\")\n",
        "mycursor.execute(\"INSERT INTO datestrin (datein) VALUES (DATE_FORMAT(NOW(),'%W %D %M %Y %T %H'))\")\n",
        "mycursor.execute(\"INSERT INTO datestrin (datein) VALUES (UTC_DATE())\")#UTC_TIME,UTC_TIMESTAMP\n",
        "mydb.commit()"
      ],
      "metadata": {
        "id": "J8_hdD6CvI9z"
      },
      "execution_count": null,
      "outputs": []
    },
    {
      "cell_type": "code",
      "source": [
        ""
      ],
      "metadata": {
        "id": "CTZwhdnIx5bY"
      },
      "execution_count": null,
      "outputs": []
    },
    {
      "cell_type": "code",
      "source": [
        "mycursor.execute(\"CREATE TABLE blobtest1 (datein BLOB NOT NULL)\")"
      ],
      "metadata": {
        "id": "MzBbO68l5x3q"
      },
      "execution_count": null,
      "outputs": []
    },
    {
      "cell_type": "code",
      "source": [
        "# Convert images or files data to binary format\n",
        "def convert_data(file_name):\n",
        "    with open(file_name, 'rb') as file:\n",
        "        binary_data = file.read()\n",
        "    return binary_data\n",
        "a=convert_data(\"/home/linux/Desktop/logo.png\")\n",
        "#print(a)\n",
        "\n",
        "query=\"\"\"INSERT INTO blobtest (datein) VALUES (%s)\"\"\"\n",
        "mycursor.execute(query,a)\n",
        "mydb.commit()\n"
      ],
      "metadata": {
        "id": "YLC-fUd-6GS1"
      },
      "execution_count": null,
      "outputs": []
    },
    {
      "cell_type": "code",
      "source": [
        "import mysql.connector\n",
        " \n",
        " \n",
        "# Convert images or files data to binary format\n",
        "def convert(file_name):\n",
        "    with open(file_name, 'rb') as file:\n",
        "        binary_data = file.read()\n",
        "    return binary_data\n",
        " \n",
        " \n",
        "try:\n",
        "    connection = mysql.connector.connect(host='localhost',\n",
        "                                         database='guvi12',\n",
        "                                         user='root',\n",
        "                                         password='')\n",
        "    mycursor = connection.cursor()\n",
        "    # create table query\n",
        "    create_table = \"\"\"CREATE TABLE blob11111( name VARCHAR (255) NOT NULL, profile_pic BLOB NOT NULL, \\\n",
        "    imp_files BLOB NOT NULL) \"\"\"\n",
        " \n",
        "    # Execute the create_table query first\n",
        "    mycursor.execute(create_table)\n",
        "    # printing successful message\n",
        "    print(\"Table created Successfully\")\n",
        " \n",
        "    query = \"\"\" INSERT INTO blob11111( name, profile_pic, imp_files)VALUES ( %s,%s,%s)\"\"\"\n",
        " \n",
        "    # First Data Insertion\n",
        "    name = \"nethaji\"\n",
        "    picture = convert_data(\"/home/linux/Desktop/logo.png\")\n",
        "    text_file = convert_data('/home/linux/Desktop/Android.pdf')\n",
        " \n",
        "    # Inserting the data in database in tuple format\n",
        "    result = mycursor.execute(\n",
        "        query, (name, picture, text_file))\n",
        "    # Committing the data\n",
        "    connection.commit()\n",
        "    print(\"Successfully Inserted Values\")\n",
        " \n",
        "# Print error if occured\n",
        "except mysql.connector.Error as error:\n",
        "    print(format(error))\n",
        " \n",
        "finally:\n",
        "   \n",
        "    # Closing all resources\n",
        "    if connection.is_connected():\n",
        "       \n",
        "        mycursor.close()\n",
        "        connection.close()\n",
        "        print(\"MySQL connection is closed\")"
      ],
      "metadata": {
        "colab": {
          "base_uri": "https://localhost:8080/"
        },
        "id": "5XA3QgyQ7fmu",
        "outputId": "19e339b6-0698-45df-8e72-778eb585ecf2"
      },
      "execution_count": null,
      "outputs": [
        {
          "output_type": "stream",
          "name": "stdout",
          "text": [
            "Table created Successfully\n",
            "Successfully Inserted Values\n",
            "MySQL connection is closed\n"
          ]
        }
      ]
    },
    {
      "cell_type": "markdown",
      "source": [
        "#select and view\n"
      ],
      "metadata": {
        "id": "B5q_vMaU33wT"
      }
    },
    {
      "cell_type": "code",
      "source": [
        "!pip install tabulate"
      ],
      "metadata": {
        "colab": {
          "base_uri": "https://localhost:8080/"
        },
        "id": "6M7Pt3Mtq9Mp",
        "outputId": "4028b178-e798-4d5e-9022-decbdbb41a51"
      },
      "execution_count": null,
      "outputs": [
        {
          "output_type": "stream",
          "name": "stdout",
          "text": [
            "None\n"
          ]
        }
      ]
    },
    {
      "cell_type": "code",
      "source": [
        "#mycursor.execute(\"SELECT * FROM diabetes WHERE Pregnancies=1\")\n",
        "mycursor.execute(\"select count(Pregnancies) from diabetes where Pregnancies =1\")\n",
        "mycursor.execute(\"select count(Pregnancies) from diabetes where outcome = 1 and Pregnancies = 2 \")\n",
        "\n",
        "#mycursor.execute(\"SELECT Insulin,BMI,Age FROM diabetes\")\n",
        "#mycursor.execute(\"SELECT count( * ) as total_record FROM diabetes\")\n",
        "out=mycursor.fetchall()\n",
        "from tabulate import tabulate\n",
        "print(tabulate(out,headers=[i[0] for i in mycursor.description],  tablefmt='psql'))"
      ],
      "metadata": {
        "id": "1Tm5SZp932-r",
        "colab": {
          "base_uri": "https://localhost:8080/"
        },
        "outputId": "c7b62cd6-686c-4b4d-b79a-d163cdc8449e"
      },
      "execution_count": null,
      "outputs": [
        {
          "output_type": "stream",
          "name": "stdout",
          "text": [
            "+----------------------+\n",
            "|   count(Pregnancies) |\n",
            "|----------------------|\n",
            "|                   19 |\n",
            "+----------------------+\n"
          ]
        }
      ]
    },
    {
      "cell_type": "code",
      "source": [
        ""
      ],
      "metadata": {
        "id": "su9eQ0P5A6xM"
      },
      "execution_count": null,
      "outputs": []
    },
    {
      "cell_type": "code",
      "source": [
        "mycursor.execute(\"SELECT * FROM diabetes WHERE Pregnancies=1 ORDER BY BMI\")\n",
        "\n",
        "out=mycursor.fetchall()\n",
        "from tabulate import tabulate\n",
        "print(tabulate(out,headers=[i[0] for i in mycursor.description],  tablefmt='psql'))"
      ],
      "metadata": {
        "id": "aVz-OXEb9SH2"
      },
      "execution_count": null,
      "outputs": []
    },
    {
      "cell_type": "code",
      "source": [
        "#mycursor.execute(\"SELECT * FROM diabetes GROUP BY Pregnancies \")\n",
        "#for x in mycursor:\n",
        "# print(x)\n",
        "mycursor.execute(\"SELECT count(*) FROM diabetes GROUP BY pregnancies \")\n",
        "out=mycursor.fetchall()\n",
        "from tabulate import tabulate\n",
        "print(tabulate(out,headers=[i[0] for i in mycursor.description],showindex=\"always\",  tablefmt='psql'))"
      ],
      "metadata": {
        "colab": {
          "base_uri": "https://localhost:8080/"
        },
        "id": "gm96HgMQ9m8a",
        "outputId": "26890ce5-561c-496b-e04b-d61a49f04100"
      },
      "execution_count": null,
      "outputs": [
        {
          "output_type": "stream",
          "name": "stdout",
          "text": [
            "+----+------------+\n",
            "|    |   count(*) |\n",
            "|----+------------|\n",
            "|  0 |        111 |\n",
            "|  1 |        135 |\n",
            "|  2 |         24 |\n",
            "|  3 |         11 |\n",
            "|  4 |          9 |\n",
            "|  5 |         10 |\n",
            "|  6 |          2 |\n",
            "|  7 |          1 |\n",
            "|  8 |          1 |\n",
            "|  9 |        103 |\n",
            "| 10 |         75 |\n",
            "| 11 |         68 |\n",
            "| 12 |         57 |\n",
            "| 13 |         50 |\n",
            "| 14 |         45 |\n",
            "| 15 |         38 |\n",
            "| 16 |         28 |\n",
            "| 17 |          1 |\n",
            "+----+------------+\n"
          ]
        }
      ]
    },
    {
      "cell_type": "markdown",
      "source": [
        "# constraints\n"
      ],
      "metadata": {
        "id": "OQONDvDO7FFp"
      }
    },
    {
      "cell_type": "markdown",
      "source": [
        "# Constraints\n",
        "NOT NULL - Ensures that a column cannot have a NULL value\n",
        "\n",
        "UNIQUE - Ensures that all values in a column are different\n",
        "\n",
        "PRIMARY KEY - A combination of a NOT NULL and UNIQUE. Uniquely identifies each row in a table\n",
        "\n",
        "FOREIGN KEY - Prevents actions that would destroy links between tables\n",
        "\n",
        "CHECK - Ensures that the values in a column satisfies a specific condition\n",
        "\n",
        "DEFAULT - Sets a default value for a column if no value is specified\n",
        "\n",
        "CREATE INDEX - Used to create and retrieve data from the database very quickly"
      ],
      "metadata": {
        "id": "0OO8XaNvxJsa"
      }
    },
    {
      "cell_type": "code",
      "source": [
        "#NOT NULL\n",
        "mycursor.execute(\"CREATE TABLE stu1 (no INTEGER,name TEXT NOT NULL,school VARCHAR(20)) \")"
      ],
      "metadata": {
        "id": "yx6ze3K8J6m5"
      },
      "execution_count": null,
      "outputs": []
    },
    {
      "cell_type": "code",
      "source": [
        "a=input()\n",
        "b=input()\n",
        "c=input()\n",
        "query=\"INSERT INTO stu1 (no,name,school) VALUES (%s,%s,%s)\"\n",
        "mycursor.execute(query,(a,b,c))\n",
        "mydb.commit()"
      ],
      "metadata": {
        "colab": {
          "base_uri": "https://localhost:8080/",
          "height": 478
        },
        "id": "H4QLUOBrKfzo",
        "outputId": "3887f728-2f7b-4f2c-b2c6-ea76bb227cfe"
      },
      "execution_count": null,
      "outputs": [
        {
          "output_type": "error",
          "ename": "KeyboardInterrupt",
          "evalue": "ignored",
          "traceback": [
            "\u001b[0;31m---------------------------------------------------------------------------\u001b[0m",
            "\u001b[0;31mKeyboardInterrupt\u001b[0m                         Traceback (most recent call last)",
            "\u001b[0;32m/tmp/ipykernel_6745/704207069.py\u001b[0m in \u001b[0;36m<module>\u001b[0;34m\u001b[0m\n\u001b[0;32m----> 1\u001b[0;31m \u001b[0ma\u001b[0m\u001b[0;34m=\u001b[0m\u001b[0minput\u001b[0m\u001b[0;34m(\u001b[0m\u001b[0;34m)\u001b[0m\u001b[0;34m\u001b[0m\u001b[0;34m\u001b[0m\u001b[0m\n\u001b[0m\u001b[1;32m      2\u001b[0m \u001b[0mb\u001b[0m\u001b[0;34m=\u001b[0m\u001b[0minput\u001b[0m\u001b[0;34m(\u001b[0m\u001b[0;34m)\u001b[0m\u001b[0;34m\u001b[0m\u001b[0;34m\u001b[0m\u001b[0m\n\u001b[1;32m      3\u001b[0m \u001b[0mc\u001b[0m\u001b[0;34m=\u001b[0m\u001b[0minput\u001b[0m\u001b[0;34m(\u001b[0m\u001b[0;34m)\u001b[0m\u001b[0;34m\u001b[0m\u001b[0;34m\u001b[0m\u001b[0m\n\u001b[1;32m      4\u001b[0m \u001b[0mquery\u001b[0m\u001b[0;34m=\u001b[0m\u001b[0;34m\"INSERT INTO stu1 (no,name,school) VALUES (%s,%s,%s)\"\u001b[0m\u001b[0;34m\u001b[0m\u001b[0;34m\u001b[0m\u001b[0m\n\u001b[1;32m      5\u001b[0m \u001b[0mmycursor\u001b[0m\u001b[0;34m.\u001b[0m\u001b[0mexecute\u001b[0m\u001b[0;34m(\u001b[0m\u001b[0mquery\u001b[0m\u001b[0;34m,\u001b[0m\u001b[0;34m(\u001b[0m\u001b[0ma\u001b[0m\u001b[0;34m,\u001b[0m\u001b[0mb\u001b[0m\u001b[0;34m,\u001b[0m\u001b[0mc\u001b[0m\u001b[0;34m)\u001b[0m\u001b[0;34m)\u001b[0m\u001b[0;34m\u001b[0m\u001b[0;34m\u001b[0m\u001b[0m\n",
            "\u001b[0;32m~/.local/lib/python3.8/site-packages/ipykernel/kernelbase.py\u001b[0m in \u001b[0;36mraw_input\u001b[0;34m(self, prompt)\u001b[0m\n\u001b[1;32m   1005\u001b[0m                 \u001b[0;34m\"raw_input was called, but this frontend does not support input requests.\"\u001b[0m\u001b[0;34m\u001b[0m\u001b[0;34m\u001b[0m\u001b[0m\n\u001b[1;32m   1006\u001b[0m             )\n\u001b[0;32m-> 1007\u001b[0;31m         return self._input_request(\n\u001b[0m\u001b[1;32m   1008\u001b[0m             \u001b[0mstr\u001b[0m\u001b[0;34m(\u001b[0m\u001b[0mprompt\u001b[0m\u001b[0;34m)\u001b[0m\u001b[0;34m,\u001b[0m\u001b[0;34m\u001b[0m\u001b[0;34m\u001b[0m\u001b[0m\n\u001b[1;32m   1009\u001b[0m             \u001b[0mself\u001b[0m\u001b[0;34m.\u001b[0m\u001b[0m_parent_ident\u001b[0m\u001b[0;34m[\u001b[0m\u001b[0;34m\"shell\"\u001b[0m\u001b[0;34m]\u001b[0m\u001b[0;34m,\u001b[0m\u001b[0;34m\u001b[0m\u001b[0;34m\u001b[0m\u001b[0m\n",
            "\u001b[0;32m~/.local/lib/python3.8/site-packages/ipykernel/kernelbase.py\u001b[0m in \u001b[0;36m_input_request\u001b[0;34m(self, prompt, ident, parent, password)\u001b[0m\n\u001b[1;32m   1050\u001b[0m             \u001b[0;32mexcept\u001b[0m \u001b[0mKeyboardInterrupt\u001b[0m\u001b[0;34m:\u001b[0m\u001b[0;34m\u001b[0m\u001b[0;34m\u001b[0m\u001b[0m\n\u001b[1;32m   1051\u001b[0m                 \u001b[0;31m# re-raise KeyboardInterrupt, to truncate traceback\u001b[0m\u001b[0;34m\u001b[0m\u001b[0;34m\u001b[0m\u001b[0;34m\u001b[0m\u001b[0m\n\u001b[0;32m-> 1052\u001b[0;31m                 \u001b[0;32mraise\u001b[0m \u001b[0mKeyboardInterrupt\u001b[0m\u001b[0;34m(\u001b[0m\u001b[0;34m\"Interrupted by user\"\u001b[0m\u001b[0;34m)\u001b[0m \u001b[0;32mfrom\u001b[0m \u001b[0;32mNone\u001b[0m\u001b[0;34m\u001b[0m\u001b[0;34m\u001b[0m\u001b[0m\n\u001b[0m\u001b[1;32m   1053\u001b[0m             \u001b[0;32mexcept\u001b[0m \u001b[0mException\u001b[0m\u001b[0;34m:\u001b[0m\u001b[0;34m\u001b[0m\u001b[0;34m\u001b[0m\u001b[0m\n\u001b[1;32m   1054\u001b[0m                 \u001b[0mself\u001b[0m\u001b[0;34m.\u001b[0m\u001b[0mlog\u001b[0m\u001b[0;34m.\u001b[0m\u001b[0mwarning\u001b[0m\u001b[0;34m(\u001b[0m\u001b[0;34m\"Invalid Message:\"\u001b[0m\u001b[0;34m,\u001b[0m \u001b[0mexc_info\u001b[0m\u001b[0;34m=\u001b[0m\u001b[0;32mTrue\u001b[0m\u001b[0;34m)\u001b[0m\u001b[0;34m\u001b[0m\u001b[0;34m\u001b[0m\u001b[0m\n",
            "\u001b[0;31mKeyboardInterrupt\u001b[0m: Interrupted by user"
          ]
        }
      ]
    },
    {
      "cell_type": "code",
      "source": [
        "#unique and check\n",
        "mycursor.execute(\"CREATE TABLE u (no INTEGER,name TEXT UNIQUE,school VARCHAR(20),age INT CHECK(age<18)) \")"
      ],
      "metadata": {
        "id": "N9dwzV7OKxG2"
      },
      "execution_count": null,
      "outputs": []
    },
    {
      "cell_type": "code",
      "source": [
        "a=input()\n",
        "b=input()\n",
        "c=input()\n",
        "d=input()\n",
        "query=\"INSERT INTO u (no,name,school,age) VALUES (%s,%s,%s,%s)\"\n",
        "mycursor.execute(query,(a,b,c,d))\n",
        "mydb.commit()\n",
        "#duplicate entry error"
      ],
      "metadata": {
        "id": "dF6Jwl2sNLnl",
        "colab": {
          "base_uri": "https://localhost:8080/"
        },
        "outputId": "dbd1e561-d7ce-415f-a7bc-822e39973197"
      },
      "execution_count": null,
      "outputs": [
        {
          "name": "stdout",
          "output_type": "stream",
          "text": [
            "1\n",
            "nirmal\n",
            "park\n",
            "15\n"
          ]
        }
      ]
    },
    {
      "cell_type": "code",
      "source": [
        "#creating an index which is not visible\n",
        "mycursor.execute(\"CREATE INDEX user_id ON test2 (accno, name)\")\n"
      ],
      "metadata": {
        "id": "pwcyIdoJtx1w"
      },
      "execution_count": null,
      "outputs": []
    },
    {
      "cell_type": "code",
      "source": [
        "mycursor.execute(\"SHOW INDEXES FROM u \")\n",
        "out=mycursor.fetchall()\n",
        "print(out)\n",
        "from tabulate import tabulate\n",
        "print(tabulate(out, tablefmt='psql'))"
      ],
      "metadata": {
        "colab": {
          "base_uri": "https://localhost:8080/"
        },
        "id": "xNfdU2kxv8b-",
        "outputId": "1e35695c-1f6c-4b44-f113-1b444089b374"
      },
      "execution_count": null,
      "outputs": [
        {
          "output_type": "stream",
          "name": "stdout",
          "text": [
            "[('u', 0, 'name', 1, 'name', 'A', None, None, None, 'YES', 'HASH', '', '')]\n",
            "+---+---+------+---+------+---+--+--+--+-----+------+--+--+\n",
            "| u | 0 | name | 1 | name | A |  |  |  | YES | HASH |  |  |\n",
            "+---+---+------+---+------+---+--+--+--+-----+------+--+--+\n"
          ]
        }
      ]
    },
    {
      "cell_type": "code",
      "source": [
        "mydb.commit()"
      ],
      "metadata": {
        "id": "UnwgGcyovPHS"
      },
      "execution_count": null,
      "outputs": []
    },
    {
      "cell_type": "markdown",
      "source": [
        "# PRIMARY KEY \n",
        "Constraint\n",
        "This constraint is used to identify each record in a table uniquely. If the column contains primary key constraints, then it cannot be null or empty. A table may have duplicate columns, but it can contain only one primary key. It always contains unique value into a column\n",
        "\n",
        "#Foreign Key Constraint\n",
        "This constraint is used to link two tables together. It is also known as the referencing key. A foreign key column matches the primary key field of another table. It means a foreign key field in one table refers to the primary key field of another table\n",
        "\n",
        "\n",
        "A FOREIGN KEY constraint does not have to be linked only to a PRIMARY KEY constraint in another table; it can also be defined to reference the columns of a UNIQUE constraint in another table."
      ],
      "metadata": {
        "id": "KBQrywlCTKFG"
      }
    },
    {
      "cell_type": "code",
      "source": [
        "mycursor.execute(\"CREATE TABLE aadhardetails (name VARCHAR(30),ADDRESS VARCHAR(20),AADHARID INTEGER PRIMARY KEY)\")"
      ],
      "metadata": {
        "id": "Hd8zEoKNNP-x"
      },
      "execution_count": null,
      "outputs": []
    },
    {
      "cell_type": "code",
      "source": [
        "mycursor.execute(\"INSERT INTO aadhardetails (name,address,aadharid) VALUES('netthaji','coimbatore',22345678)\")"
      ],
      "metadata": {
        "id": "M2dxVdkpkFd0"
      },
      "execution_count": null,
      "outputs": []
    },
    {
      "cell_type": "code",
      "source": [
        "mydb.commit()"
      ],
      "metadata": {
        "id": "TRW6VJZeksy3"
      },
      "execution_count": null,
      "outputs": []
    },
    {
      "cell_type": "code",
      "source": [
        "mycursor.execute(\"CREATE TABLE bankacc(name VARCHAR(20),type VARCHAR(2),accno INT PRIMARY KEY,aadhar INT ,FOREIGN KEY (aadhar)REFERENCES aadhardetails(aadharid))\")"
      ],
      "metadata": {
        "id": "GvNBXjrsk1l-"
      },
      "execution_count": null,
      "outputs": []
    },
    {
      "cell_type": "code",
      "source": [
        "mycursor.execute(\"INSERT INTO bankacc (name,type,accno,aadhar) VALUES('nethaji','fd',123455,12345678)\")"
      ],
      "metadata": {
        "id": "5ADNCs5Bmm66"
      },
      "execution_count": null,
      "outputs": []
    },
    {
      "cell_type": "code",
      "source": [
        "mydb.commit()"
      ],
      "metadata": {
        "id": "043M-5V7mekn"
      },
      "execution_count": null,
      "outputs": []
    },
    {
      "cell_type": "code",
      "source": [
        "mycursor.execute(\"CREATE TABLE pancard(name VARCHAR(20),dob INT,panid VARCHAR(16),aadhar INT ,FOREIGN KEY(aadhar) REFERENCES aadhardetails(aadharid),PRIMARY KEY(panid,aadhar))\")"
      ],
      "metadata": {
        "id": "DvI2QRL3nP-S"
      },
      "execution_count": null,
      "outputs": []
    },
    {
      "cell_type": "code",
      "source": [
        "mycursor.execute(\"INSERT INTO pancard(name,dob,panid,aadhar) VALUES('nethaji',123,'BABPN78',12345678)\")"
      ],
      "metadata": {
        "id": "C41ETuSdoDF4"
      },
      "execution_count": null,
      "outputs": []
    },
    {
      "cell_type": "code",
      "source": [
        "mydb.commit()"
      ],
      "metadata": {
        "id": "dZhLuQ2UnzNZ"
      },
      "execution_count": null,
      "outputs": []
    },
    {
      "cell_type": "code",
      "source": [
        "!pip3 install tabulate"
      ],
      "metadata": {
        "colab": {
          "base_uri": "https://localhost:8080/"
        },
        "id": "MiRrd9xNrs_R",
        "outputId": "7552e481-6fed-416a-d267-236965eba316"
      },
      "execution_count": null,
      "outputs": [
        {
          "output_type": "stream",
          "name": "stdout",
          "text": [
            "Requirement already satisfied: tabulate in ./.local/lib/python3.8/site-packages (0.8.9)\r\n"
          ]
        }
      ]
    },
    {
      "cell_type": "code",
      "source": [
        "mycursor.execute(\"DESCRIBE test\")\n",
        "out=mycursor.fetchall()\n",
        "print(out)\n",
        "from tabulate import tabulate\n",
        "print(tabulate(out, headers=['accno', 'name','empdomain','age'], tablefmt='psql'))\n"
      ],
      "metadata": {
        "colab": {
          "base_uri": "https://localhost:8080/"
        },
        "id": "W6NdBWGLp0_i",
        "outputId": "95ca15db-77d9-4747-c92f-09c1f6b63bfb"
      },
      "execution_count": null,
      "outputs": [
        {
          "output_type": "stream",
          "name": "stdout",
          "text": [
            "[('accno', 'int(11)', 'NO', 'PRI', None, ''), ('name', 'text', 'YES', '', None, ''), ('empdoamin', 'varchar(20)', 'YES', '', None, ''), ('age', 'int(11)', 'YES', '', None, '')]\n",
            "+-----------+-------------+---------+--------+-------------+-------+\n",
            "|           |             | accno   | name   | empdomain   | age   |\n",
            "|-----------+-------------+---------+--------+-------------+-------|\n",
            "| accno     | int(11)     | NO      | PRI    |             |       |\n",
            "| name      | text        | YES     |        |             |       |\n",
            "| empdoamin | varchar(20) | YES     |        |             |       |\n",
            "| age       | int(11)     | YES     |        |             |       |\n",
            "+-----------+-------------+---------+--------+-------------+-------+\n"
          ]
        }
      ]
    },
    {
      "cell_type": "markdown",
      "source": [
        "# Partitions\n",
        "latest mysql doesnt support vertical partioning\n",
        "\n",
        "partitions can be enablesd and disables"
      ],
      "metadata": {
        "id": "T9q37Nfuz0vb"
      }
    },
    {
      "cell_type": "code",
      "source": [
        "mycursor.execute(\"SET @@global.sql_mode= ''\")"
      ],
      "metadata": {
        "id": "At5uqPr3GyYc"
      },
      "execution_count": null,
      "outputs": []
    },
    {
      "cell_type": "code",
      "source": [
        "# use football databse\n",
        "#to import big files change conf file as follows\n",
        "#SET @@global.sql_mode= '';    ----exec command\n",
        "\n",
        "#set global net_buffer_length=1000000; \n",
        "#set global max_allowed_packet=1000000000; \n",
        "mycursor.execute(\"CREATE TABLE crypto(timestamp INT,open DOUBLE ,close INT,high DOUBLE,low DOUBLE,volume DOUBLE)\")\n"
      ],
      "metadata": {
        "id": "svexJCyRz5EA"
      },
      "execution_count": null,
      "outputs": []
    },
    {
      "cell_type": "code",
      "source": [
        "#by default we have varchar from dataset and it should bechanged to int for this operation\n",
        "mycursor.execute(\" ALTER TABLE forex\\\n",
        "PARTITION BY RANGE (close) (\\\n",
        "      partition p0 VALUES LESS THAN (10000),\\\n",
        "      partition p1 VALUES LESS THAN (20000),\\\n",
        "      partition p2 VALUES LESS THAN (30000),\\\n",
        "      partition p3 VALUES LESS THAN (40000),\\\n",
        "      partition p4 VALUES LESS THAN (50000),\\\n",
        "      partition p5 VALUES LESS THAN (60000),\\\n",
        "      partition p6 VALUES LESS THAN  MAXVALUE\\\n",
        "  )\")\n",
        "mydb.commit()\n"
      ],
      "metadata": {
        "id": "qP2JCXpmJCI1"
      },
      "execution_count": null,
      "outputs": []
    },
    {
      "cell_type": "code",
      "source": [
        "#lets check\n",
        "mycursor.execute(\"SELECT * FROM information_schema.partitions WHERE TABLE_SCHEMA='guvi1' \")\n",
        "out=mycursor.fetchall()\n",
        "print(out)\n",
        "from tabulate import tabulate\n",
        "print(tabulate(out,  tablefmt='psql'))"
      ],
      "metadata": {
        "colab": {
          "base_uri": "https://localhost:8080/"
        },
        "id": "84Bo82zNOPya",
        "outputId": "4174d23b-76a7-48df-c07c-e6dbe9dcdcb1"
      },
      "execution_count": null,
      "outputs": [
        {
          "output_type": "stream",
          "name": "stdout",
          "text": [
            "[('def', 'guvi1', 'aadhardetails', None, None, None, None, None, None, None, None, None, 2, 8192, 16384, None, 0, 0, datetime.datetime(2022, 1, 21, 11, 44, 33), None, None, None, '', '', None), ('def', 'guvi1', 'bankacc', None, None, None, None, None, None, None, None, None, 2, 8192, 16384, None, 16384, 0, datetime.datetime(2022, 1, 21, 11, 52, 4), None, None, None, '', '', None), ('def', 'guvi1', 'blobtest1', None, None, None, None, None, None, None, None, None, 0, 0, 16384, None, 0, 0, datetime.datetime(2022, 1, 20, 11, 42, 15), None, None, None, '', '', None), ('def', 'guvi1', 'cons', None, None, None, None, None, None, None, None, None, 0, 0, 16384, None, 0, 0, datetime.datetime(2022, 1, 20, 10, 44, 6), None, None, None, '', '', None), ('def', 'guvi1', 'date', None, None, None, None, None, None, None, None, None, 7, 2340, 16384, None, 0, 0, datetime.datetime(2022, 1, 12, 0, 50, 57), datetime.datetime(2022, 1, 24, 8, 27, 6), None, None, '', '', None), ('def', 'guvi1', 'date1', None, None, None, None, None, None, None, None, None, 4, 4096, 16384, None, 0, 0, datetime.datetime(2022, 1, 12, 0, 49, 33), datetime.datetime(2022, 1, 24, 8, 27, 6), None, None, '', '', None), ('def', 'guvi1', 'datestrin', None, None, None, None, None, None, None, None, None, 13, 1260, 16384, None, 0, 0, datetime.datetime(2022, 1, 20, 11, 17, 45), None, None, None, '', '', None), ('def', 'guvi1', 'diabetes', None, None, None, None, None, None, None, None, None, 769, 106, 81920, None, 0, 0, datetime.datetime(2022, 1, 18, 7, 35, 12), None, None, None, '', '', None), ('def', 'guvi1', 'employee', None, None, None, None, None, None, None, None, None, 8, 2048, 16384, None, 0, 0, datetime.datetime(2022, 1, 24, 7, 26, 46), datetime.datetime(2022, 1, 24, 8, 18, 56), None, None, '', '', None), ('def', 'guvi1', 'forex', 'p0', None, 1, None, 'RANGE', None, '`close`', None, '10000', 14572, 109, 1589248, None, 0, 0, datetime.datetime(2022, 1, 24, 9, 56, 45), None, None, None, '', 'default', None), ('def', 'guvi1', 'forex', 'p1', None, 2, None, 'RANGE', None, '`close`', None, '20000', 2751, 95, 262144, None, 0, 0, datetime.datetime(2022, 1, 24, 9, 56, 45), None, None, None, '', 'default', None), ('def', 'guvi1', 'forex', 'p2', None, 3, None, 'RANGE', None, '`close`', None, '30000', 0, 0, 16384, None, 0, 0, datetime.datetime(2022, 1, 24, 9, 56, 45), None, None, None, '', 'default', None), ('def', 'guvi1', 'forex', 'p3', None, 4, None, 'RANGE', None, '`close`', None, '40000', 0, 0, 16384, None, 0, 0, datetime.datetime(2022, 1, 24, 9, 56, 45), None, None, None, '', 'default', None), ('def', 'guvi1', 'forex', 'p4', None, 5, None, 'RANGE', None, '`close`', None, '50000', 0, 0, 16384, None, 0, 0, datetime.datetime(2022, 1, 24, 9, 56, 45), None, None, None, '', 'default', None), ('def', 'guvi1', 'forex', 'p5', None, 6, None, 'RANGE', None, '`close`', None, '60000', 0, 0, 16384, None, 0, 0, datetime.datetime(2022, 1, 24, 9, 56, 45), None, None, None, '', 'default', None), ('def', 'guvi1', 'forex', 'p6', None, 7, None, 'RANGE', None, '`close`', None, 'MAXVALUE', 0, 0, 16384, None, 0, 0, datetime.datetime(2022, 1, 24, 9, 56, 45), None, None, None, '', 'default', None), ('def', 'guvi1', 'lucky', None, None, None, None, None, None, None, None, None, 2, 8192, 16384, None, 0, 0, datetime.datetime(2022, 1, 12, 0, 2, 52), None, None, None, '', '', None), ('def', 'guvi1', 'lucky1', None, None, None, None, None, None, None, None, None, 2, 8192, 16384, None, 0, 0, datetime.datetime(2022, 1, 20, 10, 9, 4), None, None, None, '', '', None), ('def', 'guvi1', 'mytable', None, None, None, None, None, None, None, None, None, 2, 8192, 16384, None, 0, 0, datetime.datetime(2022, 1, 20, 9, 48, 20), None, None, None, '', '', None), ('def', 'guvi1', 'nethaji', None, None, None, None, None, None, None, None, None, 0, 0, 16384, None, 0, 0, datetime.datetime(2022, 1, 12, 0, 25, 55), None, None, None, '', '', None), ('def', 'guvi1', 'stu1', None, None, None, None, None, None, None, None, None, 2, 8192, 16384, None, 0, 0, datetime.datetime(2022, 1, 24, 9, 21, 34), datetime.datetime(2022, 1, 24, 9, 22, 22), None, None, '', '', None), ('def', 'guvi1', 'u', None, None, None, None, None, None, None, None, None, 2, 8192, 16384, None, 16384, 0, datetime.datetime(2022, 1, 24, 9, 24, 29), datetime.datetime(2022, 1, 24, 9, 26, 35), None, None, '', '', None), ('def', 'guvi1', 'yourtable', None, None, None, None, None, None, None, None, None, 0, 0, 16384, None, 0, 0, datetime.datetime(2022, 1, 11, 23, 55, 23), None, None, None, '', '', None), ('def', 'guvi1', 'yourtable1', None, None, None, None, None, None, None, None, None, 0, 0, 16384, None, 0, 0, datetime.datetime(2022, 1, 11, 23, 56, 22), None, None, None, '', '', None)]\n",
            "+-----+-------+---------------+----+--+---+--+-------+--+---------+--+----------+-------+------+---------+--+-------+---+---------------------+---------------------+--+--+--+---------+--+\n",
            "| def | guvi1 | aadhardetails |    |  |   |  |       |  |         |  |          |     2 | 8192 |   16384 |  |     0 | 0 | 2022-01-21 11:44:33 |                     |  |  |  |         |  |\n",
            "| def | guvi1 | bankacc       |    |  |   |  |       |  |         |  |          |     2 | 8192 |   16384 |  | 16384 | 0 | 2022-01-21 11:52:04 |                     |  |  |  |         |  |\n",
            "| def | guvi1 | blobtest1     |    |  |   |  |       |  |         |  |          |     0 |    0 |   16384 |  |     0 | 0 | 2022-01-20 11:42:15 |                     |  |  |  |         |  |\n",
            "| def | guvi1 | cons          |    |  |   |  |       |  |         |  |          |     0 |    0 |   16384 |  |     0 | 0 | 2022-01-20 10:44:06 |                     |  |  |  |         |  |\n",
            "| def | guvi1 | date          |    |  |   |  |       |  |         |  |          |     7 | 2340 |   16384 |  |     0 | 0 | 2022-01-12 00:50:57 | 2022-01-24 08:27:06 |  |  |  |         |  |\n",
            "| def | guvi1 | date1         |    |  |   |  |       |  |         |  |          |     4 | 4096 |   16384 |  |     0 | 0 | 2022-01-12 00:49:33 | 2022-01-24 08:27:06 |  |  |  |         |  |\n",
            "| def | guvi1 | datestrin     |    |  |   |  |       |  |         |  |          |    13 | 1260 |   16384 |  |     0 | 0 | 2022-01-20 11:17:45 |                     |  |  |  |         |  |\n",
            "| def | guvi1 | diabetes      |    |  |   |  |       |  |         |  |          |   769 |  106 |   81920 |  |     0 | 0 | 2022-01-18 07:35:12 |                     |  |  |  |         |  |\n",
            "| def | guvi1 | employee      |    |  |   |  |       |  |         |  |          |     8 | 2048 |   16384 |  |     0 | 0 | 2022-01-24 07:26:46 | 2022-01-24 08:18:56 |  |  |  |         |  |\n",
            "| def | guvi1 | forex         | p0 |  | 1 |  | RANGE |  | `close` |  | 10000    | 14572 |  109 | 1589248 |  |     0 | 0 | 2022-01-24 09:56:45 |                     |  |  |  | default |  |\n",
            "| def | guvi1 | forex         | p1 |  | 2 |  | RANGE |  | `close` |  | 20000    |  2751 |   95 |  262144 |  |     0 | 0 | 2022-01-24 09:56:45 |                     |  |  |  | default |  |\n",
            "| def | guvi1 | forex         | p2 |  | 3 |  | RANGE |  | `close` |  | 30000    |     0 |    0 |   16384 |  |     0 | 0 | 2022-01-24 09:56:45 |                     |  |  |  | default |  |\n",
            "| def | guvi1 | forex         | p3 |  | 4 |  | RANGE |  | `close` |  | 40000    |     0 |    0 |   16384 |  |     0 | 0 | 2022-01-24 09:56:45 |                     |  |  |  | default |  |\n",
            "| def | guvi1 | forex         | p4 |  | 5 |  | RANGE |  | `close` |  | 50000    |     0 |    0 |   16384 |  |     0 | 0 | 2022-01-24 09:56:45 |                     |  |  |  | default |  |\n",
            "| def | guvi1 | forex         | p5 |  | 6 |  | RANGE |  | `close` |  | 60000    |     0 |    0 |   16384 |  |     0 | 0 | 2022-01-24 09:56:45 |                     |  |  |  | default |  |\n",
            "| def | guvi1 | forex         | p6 |  | 7 |  | RANGE |  | `close` |  | MAXVALUE |     0 |    0 |   16384 |  |     0 | 0 | 2022-01-24 09:56:45 |                     |  |  |  | default |  |\n",
            "| def | guvi1 | lucky         |    |  |   |  |       |  |         |  |          |     2 | 8192 |   16384 |  |     0 | 0 | 2022-01-12 00:02:52 |                     |  |  |  |         |  |\n",
            "| def | guvi1 | lucky1        |    |  |   |  |       |  |         |  |          |     2 | 8192 |   16384 |  |     0 | 0 | 2022-01-20 10:09:04 |                     |  |  |  |         |  |\n",
            "| def | guvi1 | mytable       |    |  |   |  |       |  |         |  |          |     2 | 8192 |   16384 |  |     0 | 0 | 2022-01-20 09:48:20 |                     |  |  |  |         |  |\n",
            "| def | guvi1 | nethaji       |    |  |   |  |       |  |         |  |          |     0 |    0 |   16384 |  |     0 | 0 | 2022-01-12 00:25:55 |                     |  |  |  |         |  |\n",
            "| def | guvi1 | stu1          |    |  |   |  |       |  |         |  |          |     2 | 8192 |   16384 |  |     0 | 0 | 2022-01-24 09:21:34 | 2022-01-24 09:22:22 |  |  |  |         |  |\n",
            "| def | guvi1 | u             |    |  |   |  |       |  |         |  |          |     2 | 8192 |   16384 |  | 16384 | 0 | 2022-01-24 09:24:29 | 2022-01-24 09:26:35 |  |  |  |         |  |\n",
            "| def | guvi1 | yourtable     |    |  |   |  |       |  |         |  |          |     0 |    0 |   16384 |  |     0 | 0 | 2022-01-11 23:55:23 |                     |  |  |  |         |  |\n",
            "| def | guvi1 | yourtable1    |    |  |   |  |       |  |         |  |          |     0 |    0 |   16384 |  |     0 | 0 | 2022-01-11 23:56:22 |                     |  |  |  |         |  |\n",
            "+-----+-------+---------------+----+--+---+--+-------+--+---------+--+----------+-------+------+---------+--+-------+---+---------------------+---------------------+--+--+--+---------+--+\n"
          ]
        }
      ]
    },
    {
      "cell_type": "code",
      "source": [
        "#check also with wrong linits eg:35000 and 38000-->will return empty\n",
        "\n",
        "mycursor.execute(\" SELECT * FROM forex PARTITION (p1) WHERE close BETWEEN 10000 and 11000\")\n",
        "out=mycursor.fetchall()\n",
        "print(\"Total number of rows in table: \", mycursor.rowcount)\n",
        "print(out)\n",
        "from tabulate import tabulate\n",
        "print(tabulate(out, tablefmt='psql'))"
      ],
      "metadata": {
        "id": "1CLIWFONK8kn"
      },
      "execution_count": null,
      "outputs": []
    },
    {
      "cell_type": "code",
      "source": [
        ""
      ],
      "metadata": {
        "id": "FOUFf2qfR9al"
      },
      "execution_count": null,
      "outputs": []
    },
    {
      "cell_type": "markdown",
      "source": [
        "# joins\n"
      ],
      "metadata": {
        "id": "hlw_TUXsxSs2"
      }
    },
    {
      "cell_type": "code",
      "source": [
        "#to import using python need to create table with all column names\n",
        "#mycursor.execute(\"LOAD DATA INFILE '/home/linux/Desktop/pima-indians-diabetes.data.csv' INTO TABLE test2\")\n",
        "#mydb.commit()"
      ],
      "metadata": {
        "id": "lLa0XsFRxn1Z"
      },
      "execution_count": null,
      "outputs": []
    },
    {
      "cell_type": "code",
      "source": [
        "mycursor.execute(\"CREATE TABLE students(ID INT PRIMARY KEY,NAME VARCHAR(20),PH INT) \")"
      ],
      "metadata": {
        "id": "Jqw_trk-x3hz"
      },
      "execution_count": null,
      "outputs": []
    },
    {
      "cell_type": "code",
      "source": [
        "mycursor.execute(\"INSERT INTO students (ID,NAME,PH) VALUES(1,'nethaji',12345)\")"
      ],
      "metadata": {
        "id": "5Lv7wpaBp6d5"
      },
      "execution_count": null,
      "outputs": []
    },
    {
      "cell_type": "code",
      "source": [
        "mycursor.execute(\"INSERT INTO students (ID,NAME,PH) VALUES(2,'nirmal',123456)\")"
      ],
      "metadata": {
        "id": "Ev17YvjhqOle"
      },
      "execution_count": null,
      "outputs": []
    },
    {
      "cell_type": "code",
      "source": [
        "mydb.commit()"
      ],
      "metadata": {
        "id": "zeeXo-x4p0AW"
      },
      "execution_count": null,
      "outputs": []
    },
    {
      "cell_type": "code",
      "source": [
        "mycursor.execute(\"CREATE TABLE marks(ID INT ,maths int,phy INT,chem INT) \")\n",
        "mydb.commit()"
      ],
      "metadata": {
        "id": "HMAidh1Oqb3x"
      },
      "execution_count": null,
      "outputs": []
    },
    {
      "cell_type": "code",
      "source": [
        "mycursor.execute(\"INSERT INTO marks (ID,maths,phy,chem) VALUES(1,91,80,50)\")\n",
        "mydb.commit()"
      ],
      "metadata": {
        "id": "MHtMoawHq2Q-"
      },
      "execution_count": null,
      "outputs": []
    },
    {
      "cell_type": "code",
      "source": [
        "#INNER JOIN\n",
        "\n",
        "mycursor.execute(\"SELECT students.ID,joins.marks.maths,joins.marks.phy \\\n",
        "FROM students \\\n",
        "INNER JOIN joins.marks ON students.ID = joins.marks.ID\")\n",
        "out=mycursor.fetchall()\n",
        "from tabulate import tabulate\n",
        "print(tabulate(out,  tablefmt='psql'))"
      ],
      "metadata": {
        "colab": {
          "base_uri": "https://localhost:8080/"
        },
        "id": "gArOfCKJrN-T",
        "outputId": "52a761dd-4d06-446a-9653-bac45f5530b7"
      },
      "execution_count": null,
      "outputs": [
        {
          "output_type": "stream",
          "name": "stdout",
          "text": [
            "+---+----+----+\n",
            "| 2 | 99 | 80 |\n",
            "| 1 | 99 | 80 |\n",
            "+---+----+----+\n"
          ]
        }
      ]
    },
    {
      "cell_type": "code",
      "source": [
        "mydb.commit()"
      ],
      "metadata": {
        "id": "bNYVlNwrv18j"
      },
      "execution_count": null,
      "outputs": []
    },
    {
      "cell_type": "code",
      "source": [
        "#joining columns from 3 different tables\n",
        "mycursor.execute(\"SELECT students.ID, marks.maths,marks.chem,marks.phy,sports.100mts,sports.football \\\n",
        "FROM students \\\n",
        "INNER JOIN marks ON students.ID = marks.ID \\\n",
        "INNER JOIN sports ON students.ID = sports.id \")\n",
        "\n",
        "out=mycursor.fetchall()\n",
        "from tabulate import tabulate\n",
        "print(tabulate(out,  tablefmt='psql'))\n"
      ],
      "metadata": {
        "colab": {
          "base_uri": "https://localhost:8080/"
        },
        "id": "7oZfBd2KtY09",
        "outputId": "bf74fd1d-c048-4b86-8a74-1a5a35d056c4"
      },
      "execution_count": null,
      "outputs": [
        {
          "output_type": "stream",
          "name": "stdout",
          "text": [
            "+---+----+----+----+---+---+\n",
            "| 1 | 99 | 50 | 80 | 2 | 1 |\n",
            "| 2 | 99 | 50 | 80 | 1 | 1 |\n",
            "+---+----+----+----+---+---+\n"
          ]
        }
      ]
    },
    {
      "cell_type": "code",
      "source": [
        "#left join :eturns all rows from the left table, even if there are no matches in the right table\n",
        "mycursor.execute(\"SELECT students.ID, marks.maths,marks.chem,marks.phy \\\n",
        "FROM students \\\n",
        "RIGHT JOIN marks ON students.ID = marks.ID\")\n",
        "\n",
        "out=mycursor.fetchall()\n",
        "from tabulate import tabulate\n",
        "print(tabulate(out,headers=[i[0] for i in mycursor.description],  tablefmt='psql'))"
      ],
      "metadata": {
        "colab": {
          "base_uri": "https://localhost:8080/"
        },
        "id": "2BTGwUaiAEtW",
        "outputId": "aa8278c5-4669-4bde-811d-a2067d9e9816"
      },
      "execution_count": null,
      "outputs": [
        {
          "output_type": "stream",
          "name": "stdout",
          "text": [
            "+------+---------+--------+-------+\n",
            "|   ID |   maths |   chem |   phy |\n",
            "|------+---------+--------+-------|\n",
            "|    2 |      99 |     50 |    80 |\n",
            "|    1 |      99 |     50 |    80 |\n",
            "|      |      25 |     45 |    35 |\n",
            "+------+---------+--------+-------+\n"
          ]
        }
      ]
    },
    {
      "cell_type": "code",
      "source": [
        "mydb.commit()"
      ],
      "metadata": {
        "id": "a93rnWduBpVZ"
      },
      "execution_count": null,
      "outputs": []
    },
    {
      "cell_type": "code",
      "source": [
        "#RIGHT JOIN: returns all rows from the right table, even if there are no matches in the left table.\n",
        "\n",
        "mycursor.execute(\"SELECT students.ID, marks.maths,marks.chem,marks.phy \\\n",
        "FROM students \\\n",
        "RIGHT JOIN marks ON students.ID = marks.ID\")\n",
        "\n",
        "out=mycursor.fetchall()\n",
        "from tabulate import tabulate\n",
        "print(tabulate(out,headers=[i[0] for i in mycursor.description],  tablefmt='psql'))"
      ],
      "metadata": {
        "colab": {
          "base_uri": "https://localhost:8080/"
        },
        "id": "3Xy0X-BLBXN7",
        "outputId": "bf5cbb07-5c1e-46ac-bce8-6ee399c037a6"
      },
      "execution_count": null,
      "outputs": [
        {
          "output_type": "stream",
          "name": "stdout",
          "text": [
            "+------+---------+--------+-------+\n",
            "|   ID |   maths |   chem |   phy |\n",
            "|------+---------+--------+-------|\n",
            "|    2 |      99 |     50 |    80 |\n",
            "|    1 |      99 |     50 |    80 |\n",
            "|      |      25 |     45 |    35 |\n",
            "+------+---------+--------+-------+\n"
          ]
        }
      ]
    },
    {
      "cell_type": "code",
      "source": [
        "mydb.commit()"
      ],
      "metadata": {
        "id": "uAKyI3bLD2iA"
      },
      "execution_count": null,
      "outputs": []
    },
    {
      "cell_type": "code",
      "source": [
        "#FULL JOIN gets all records from both tables and puts NULL in the columns where related records do not exist in the opposite table\n",
        "\n",
        "mycursor.execute(\"SELECT marks.maths,marks.chem,marks.phy \\\n",
        "FROM students \\\n",
        "FULL JOIN marks \")\n",
        "\n",
        "out=mycursor.fetchall()\n",
        "from tabulate import tabulate\n",
        "print(tabulate(out,headers=[i[0] for i in mycursor.description],  tablefmt='psql'))"
      ],
      "metadata": {
        "colab": {
          "base_uri": "https://localhost:8080/"
        },
        "id": "lYXSAG2qDMP-",
        "outputId": "cc7c8008-8c59-495e-e714-ad1dcf4c1a7d"
      },
      "execution_count": null,
      "outputs": [
        {
          "output_type": "stream",
          "name": "stdout",
          "text": [
            "+---------+--------+-------+\n",
            "|   maths |   chem |   phy |\n",
            "|---------+--------+-------|\n",
            "|      99 |     50 |    80 |\n",
            "|      99 |     50 |    80 |\n",
            "|      99 |     50 |    80 |\n",
            "|      99 |     50 |    80 |\n",
            "|      99 |     50 |    80 |\n",
            "|      99 |     50 |    80 |\n",
            "|      25 |     45 |    35 |\n",
            "|      25 |     45 |    35 |\n",
            "|      25 |     45 |    35 |\n",
            "+---------+--------+-------+\n"
          ]
        }
      ]
    },
    {
      "cell_type": "markdown",
      "source": [
        "#Triggers\n",
        "A trigger is called a special procedure because it cannot be called directly like a stored procedure\n",
        "\n",
        "Row-Level Trigger: It is a trigger, which is activated for each row by a triggering statement such as insert, update, or delete. For example, if a table has inserted, updated, or deleted multiple rows, the row trigger is fired automatically for each row affected by the insert, update, or delete statement.\n",
        "\n"
      ],
      "metadata": {
        "id": "sgQ5ZE7nxxQL"
      }
    },
    {
      "cell_type": "code",
      "source": [
        "#(BEFOR | AFTER) table_name (INSERT | UPDATE | DELETE)  \n",
        "\n",
        "mycursor.execute(\"CREATE TABLE employee(  \\\n",
        "    name varchar(45) NOT NULL,   \\\n",
        "    occupation varchar(35) NOT NULL,  working_date date, working_hours varchar(10)\\\n",
        ")  \")"
      ],
      "metadata": {
        "id": "QnVVIoDWDWpz"
      },
      "execution_count": null,
      "outputs": []
    },
    {
      "cell_type": "code",
      "source": [
        "mycursor.execute(\"INSERT INTO employee VALUES    \n",
        "('nethaji', 'Scientist', '2020-10-04', 12),  \n",
        "('sandeep', 'Engineer', '2020-10-04', 10),  \n",
        "('bharath', 'Actor', '2020-10-04', 13),  \n",
        "('sailakshmi', 'Doctor', '2020-10-04', 14),  \n",
        "('hariganesh', 'Teacher', '2020-10-04', 12),  \n",
        "('tarun', 'Business', '2020-10-04', 11)  \")"
      ],
      "metadata": {
        "id": "UqweS1k3zJas"
      },
      "execution_count": null,
      "outputs": []
    },
    {
      "cell_type": "code",
      "source": [
        "#creating trigger\n",
        "mycursor.execute(\"DELIMITER// CREATE TRIGGER before_insert_empworkinghrs  \\\n",
        "BEFORE INSERT ON employee FOR EACH ROW \\\n",
        "BEGIN \\\n",
        "IF (NEW.working_hours < 0) THEN SET NEW.working_hours = 0; \\\n",
        "END IF;\\\n",
        "END// \\\n",
        "DELIMITER\")\n",
        "\n"
      ],
      "metadata": {
        "id": "RumHwRIszqSI"
      },
      "execution_count": null,
      "outputs": []
    },
    {
      "cell_type": "code",
      "source": [
        ""
      ],
      "metadata": {
        "id": "bWUrVSoK0d0O"
      },
      "execution_count": null,
      "outputs": []
    }
  ]
}